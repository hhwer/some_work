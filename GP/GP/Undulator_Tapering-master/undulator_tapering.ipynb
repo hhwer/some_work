{
 "cells": [
  {
   "cell_type": "markdown",
   "metadata": {},
   "source": [
    "# Undulator tapering"
   ]
  },
  {
   "cell_type": "code",
   "execution_count": 1,
   "metadata": {
    "collapsed": true
   },
   "outputs": [],
   "source": [
    "from __future__ import absolute_import\n",
    "from __future__ import division\n",
    "from __future__ import print_function\n",
    "\n",
    "from modules.bayes_optimization import BayesOpt, negUCB, negExpImprove\n",
    "# from modules.bayes_optimization_lik_opt import BayesOpt, negUCB, negExpImprove\n",
    "\n",
    "from modules.OnlineGP import OGP\n",
    "import numpy as np\n",
    "import importlib\n",
    "\n",
    "\n",
    "mi_module = importlib.import_module('machine_interfaces.undulator_interface')\n",
    "import time\n",
    "import matplotlib.pyplot as plt\n",
    "from IPython.display import clear_output\n",
    "\n",
    "%matplotlib inline\n",
    "saveResultsQ = True\n",
    "\n",
    "#how long to wait between acquisitions\n",
    "acquisition_delay = 0 \n",
    "\n",
    "#create the machine interface\n",
    "dev_ids = ['und_k']\n",
    "start_point = 1    \n",
    "mi = mi_module.machine_interface(dev_ids = dev_ids, start_point = start_point)"
   ]
  },
  {
   "cell_type": "code",
   "execution_count": 20,
   "metadata": {
    "collapsed": true
   },
   "outputs": [],
   "source": [
    "# y=[]\n",
    "# for i in range(10):\n",
    "#     yi = mi.getState()[1][0]\n",
    "#     print(yi)\n",
    "#     y.append(yi) # y = [mi.getState()[1][0] for x in range(10)]\n",
    "# np.std(y)"
   ]
  },
  {
   "cell_type": "code",
   "execution_count": 2,
   "metadata": {},
   "outputs": [
    {
     "name": "stdout",
     "output_type": "stream",
     "text": [
      "(array([[-0.003]]), array([[ 1.60461314]]))\n",
      "(array([[-0.00325]]), array([[ 1.23203685]]))\n",
      "(array([[-0.0035]]), array([[ 1.39723059]]))\n",
      "(array([[-0.00375]]), array([[ 1.19703658]]))\n",
      "(array([[-0.004]]), array([[ 1.23892489]]))\n"
     ]
    },
    {
     "data": {
      "text/plain": [
       "0.15193703492252805"
      ]
     },
     "execution_count": 2,
     "metadata": {},
     "output_type": "execute_result"
    }
   ],
   "source": [
    "k=np.linspace(3,4,5)\n",
    "y=[]\n",
    "for i in k:\n",
    "    #pass in param_K\n",
    "    mi.setX(-i/1000)\n",
    "    s=mi.getState()\n",
    "    print(s)\n",
    "    yi = s[1][0][0]\n",
    "    y.append(yi) # y = [mi.getState()[1][0] for x in range(10)]\n",
    "np.std(y)"
   ]
  },
  {
   "cell_type": "code",
   "execution_count": 4,
   "metadata": {},
   "outputs": [
    {
     "data": {
      "text/plain": [
       "[<matplotlib.lines.Line2D at 0xa4782e8>]"
      ]
     },
     "execution_count": 4,
     "metadata": {},
     "output_type": "execute_result"
    },
    {
     "data": {
      "image/png": "[encoded data removed]",
      "text/plain": [
       "<matplotlib.figure.Figure at 0x9c71b70>"
      ]
     },
     "metadata": {},
     "output_type": "display_data"
    }
   ],
   "source": [
    "%matplotlib inline\n",
    "plt.plot(-k/1000,y,'.')"
   ]
  },
  {
   "cell_type": "markdown",
   "metadata": {},
   "source": [
    "**Create the gp**"
   ]
  },
  {
   "cell_type": "code",
   "execution_count": 15,
   "metadata": {
    "collapsed": true
   },
   "outputs": [],
   "source": [
    "# ktot = np.concatenate((ktot,k))\n",
    "# ytot = np.concatenate((ytot,np.array(y)[:,None]))\n",
    "# ytot.shape"
   ]
  },
  {
   "cell_type": "code",
   "execution_count": 16,
   "metadata": {
    "collapsed": true
   },
   "outputs": [],
   "source": [
    "# plt.plot(ktot,np.array(ytot)*10**(-10),'.')"
   ]
  },
  {
   "cell_type": "code",
   "execution_count": 29,
   "metadata": {},
   "outputs": [
    {
     "data": {
      "text/plain": [
       "array([[ 0.001]])"
      ]
     },
     "execution_count": 29,
     "metadata": {},
     "output_type": "execute_result"
    }
   ],
   "source": [
    "a=np.diag(np.log(1./gp_lengthscales**(2)))\n",
    "#a = 1/np.diag(gp_lengthscales**(2))\n",
    "np.sqrt(1./np.exp(a))"
   ]
  },
  {
   "cell_type": "code",
   "execution_count": 3,
   "metadata": {},
   "outputs": [
    {
     "name": "stdout",
     "output_type": "stream",
     "text": [
      "('target_func = ', <machine_interfaces.undulator_interface.machine_interface instance at 0x0000000008428EC8>)\n",
      "********* BO - self.mi = self.target_func WORKED!\n",
      "Supposed to be grabbing machine state...\n",
      "('x_init', array([[-0.001]]))\n",
      "('y_init', array([[ 2.40677332]]))\n",
      "ucb_params [2, None]\n"
     ]
    }
   ],
   "source": [
    "#build gp surrogte model\n",
    "ndim = len(dev_ids)\n",
    "#1. gp_lengthscales - learning rate\n",
    "#gp_lengthscales = np.array([1])\n",
    "#gp_lengthscales = np.array([0.0001])\n",
    "\n",
    "gp_lengthscales = np.array([0.001])\n",
    "\n",
    "#gp_precisionmat = 1/np.diag(gp_lengthscales**(2))\n",
    "\n",
    "gp_precisionmat = np.diag(np.log(1./gp_lengthscales**(2)))\n",
    "\n",
    "#2. gp_amp\n",
    "gp_amp = 0.1\n",
    "#gp_amp = 2.0\n",
    "#3. gp_noise\n",
    "#gp_noise = 0.0001 \n",
    "gp_noise = 0.001 \n",
    "\n",
    "hyps = [gp_precisionmat, np.log(gp_amp), np.log(gp_noise**2)] #format the hyperparams for the OGP\n",
    "gp = OGP(ndim, hyps)\n",
    "\n",
    "#create the bayesian optimizer that will use the gp as the model to optimize the machine \n",
    "#opt = BayesOpt(gp, mi, acq_func=\"UCB\", start_dev_vals = mi.x, dev_ids = dev_ids)\n",
    "#mi.setX(-0.004)\n",
    "#opt = BayesOpt(gp, mi, acq_func=\"UCB\", start_dev_vals = -0.004, dev_ids = dev_ids, bounds=((-np.inf, 0)))\n",
    "\n",
    "\n",
    "mi.setX(-0.001)\n",
    "s=mi.getState()\n",
    "opt = BayesOpt(gp, mi, acq_func=\"UCB\", start_dev_vals = 0, dev_ids = dev_ids)\n",
    "\n",
    "opt.ucb_params = [2,None]\n",
    "print('ucb_params',opt.ucb_params)"
   ]
  },
  {
   "cell_type": "markdown",
   "metadata": {},
   "source": [
    "**Running BO**\n",
    "\n",
    "*run the gp search for some number of steps*"
   ]
  },
  {
   "cell_type": "code",
   "execution_count": 4,
   "metadata": {
    "collapsed": true
   },
   "outputs": [],
   "source": [
    "Obj_state_s=[]"
   ]
  },
  {
   "cell_type": "code",
   "execution_count": null,
   "metadata": {},
   "outputs": [
    {
     "name": "stdout",
     "output_type": "stream",
     "text": [
      "iteration = 0 current position: [[-0.001]] current objective value: [[ 2.40677332]]\n",
      "time= 12.2680001259\n"
     ]
    },
    {
     "data": {
      "image/png": "[encoded data removed]",
      "text/plain": [
       "<matplotlib.figure.Figure at 0x4839048>"
      ]
     },
     "metadata": {},
     "output_type": "display_data"
    }
   ],
   "source": [
    "import time\n",
    "end = time.time()\n",
    "Niter = 20\n",
    "for i in range(Niter):\n",
    "    #clear_output(wait=True) \n",
    "    v = mi.getState()[1]\n",
    "    clear_output(wait=True)\n",
    "    print ('iteration =', i, 'current position:', mi.x, 'current objective value:', v )\n",
    "   \n",
    "    Obj_state_s.append(mi.getState()[1][0])\n",
    "    print('time=', time.time()-end)\n",
    "    end = time.time()\n",
    "\n",
    "    #plotting\n",
    "    \n",
    "    f = plt.figure(figsize=(20,3))\n",
    "    ax = f.add_subplot(121)\n",
    "    ax2 = f.add_subplot(122)\n",
    "    ax.set_ylabel('K',fontsize=12)\n",
    "    ax.plot(opt.X_obs,'.-')\n",
    "    ax2.set_ylabel('Obj_state_s',fontsize=12)\n",
    "    ax2.plot(Obj_state_s,'.-')\n",
    "    plt.show(); \n",
    "    \n",
    "\n",
    "    \n",
    "    #optimization\n",
    "    opt.OptIter()\n",
    "    \n",
    "    "
   ]
  },
  {
   "cell_type": "code",
   "execution_count": 47,
   "metadata": {},
   "outputs": [
    {
     "data": {
      "text/plain": [
       "[<matplotlib.lines.Line2D at 0x9ac6358>]"
      ]
     },
     "execution_count": 47,
     "metadata": {},
     "output_type": "execute_result"
    },
    {
     "data": {
      "image/png": "[encoded data removed]",
      "text/plain": [
       "<matplotlib.figure.Figure at 0xa11c518>"
      ]
     },
     "metadata": {},
     "output_type": "display_data"
    }
   ],
   "source": [
    "\n",
    "plt.plot(opt.X_obs[20:])"
   ]
  },
  {
   "cell_type": "markdown",
   "metadata": {},
   "source": [
    "# BO with likelihood optimiztion on the fly"
   ]
  },
  {
   "cell_type": "code",
   "execution_count": 16,
   "metadata": {},
   "outputs": [
    {
     "ename": "NameError",
     "evalue": "name 'scan_params' is not defined",
     "output_type": "error",
     "traceback": [
      "\u001b[1;31m---------------------------------------------------------------------------\u001b[0m",
      "\u001b[1;31mNameError\u001b[0m                                 Traceback (most recent call last)",
      "\u001b[1;32m<ipython-input-16-ebb414b5eafa>\u001b[0m in \u001b[0;36m<module>\u001b[1;34m()\u001b[0m\n\u001b[0;32m      1\u001b[0m \u001b[1;31m#create the machine interface\u001b[0m\u001b[1;33m\u001b[0m\u001b[1;33m\u001b[0m\u001b[0m\n\u001b[1;32m----> 2\u001b[1;33m \u001b[0mdev_ids\u001b[0m \u001b[1;33m=\u001b[0m \u001b[0mscan_params\u001b[0m\u001b[1;33m[\u001b[0m\u001b[1;34m'dev_ids'\u001b[0m\u001b[1;33m]\u001b[0m\u001b[1;33m\u001b[0m\u001b[0m\n\u001b[0m\u001b[0;32m      3\u001b[0m \u001b[0mstart_point\u001b[0m \u001b[1;33m=\u001b[0m  \u001b[0mstart_point\u001b[0m\u001b[1;33m\u001b[0m\u001b[0m\n\u001b[0;32m      4\u001b[0m \u001b[0mmi0\u001b[0m \u001b[1;33m=\u001b[0m \u001b[0mmi_module\u001b[0m\u001b[1;33m.\u001b[0m\u001b[0mmachine_interface\u001b[0m\u001b[1;33m(\u001b[0m\u001b[0mdev_ids\u001b[0m \u001b[1;33m=\u001b[0m \u001b[0mdev_ids\u001b[0m\u001b[1;33m,\u001b[0m \u001b[0mstart_point\u001b[0m \u001b[1;33m=\u001b[0m \u001b[0mstart_point\u001b[0m\u001b[1;33m)\u001b[0m\u001b[1;33m\u001b[0m\u001b[0m\n\u001b[0;32m      5\u001b[0m \u001b[1;33m\u001b[0m\u001b[0m\n",
      "\u001b[1;31mNameError\u001b[0m: name 'scan_params' is not defined"
     ]
    }
   ],
   "source": [
    "#create the machine interface\n",
    "dev_ids = scan_params['dev_ids']\n",
    "start_point =  start_point\n",
    "mi0 = mi_module.machine_interface(dev_ids = dev_ids, start_point = start_point)\n",
    "\n",
    "\n",
    "ndim = len(dev_ids)\n",
    "\n",
    "gp_precisionmat = scan_params['gp_precisionmat']\n",
    "gp_amp = scan_params['gp_amp'] \n",
    "gp_noise = scan_params['gp_noise'] #std\n",
    "\n",
    "hyps = [gp_precisionmat, np.log(gp_amp), np.log(gp_noise**2)] #format the hyperparams for the OGP\n",
    "gp0 = OGP(ndim, hyps)"
   ]
  },
  {
   "cell_type": "code",
   "execution_count": null,
   "metadata": {
    "collapsed": true
   },
   "outputs": [],
   "source": [
    "#create the bayesian optimizer that will use the gp as the model to optimize the machine \n",
    "opt0 = BayesOpt(gp0, mi0, acq_func=\"UCB\", start_dev_vals = mi0.x, dev_ids = dev_ids)\n",
    "opt0.ucb_params = opt.ucb_params\n",
    "print('ucb_params',opt0.ucb_params)\n",
    "Obj_state_s0=[]"
   ]
  },
  {
   "cell_type": "code",
   "execution_count": null,
   "metadata": {
    "collapsed": true
   },
   "outputs": [],
   "source": [
    "for i in range(Niter):\n",
    "    clear_output(wait=True) \n",
    "    print ('iteration =', i)\n",
    "    print ('current position:', mi0.x, 'current objective value:', mi0.getState()[1])\n",
    "   \n",
    "    Obj_state_s0.append(mi0.getState()[1][0])\n",
    "    \n",
    "    f = plt.figure(figsize=(20,3))\n",
    "    ax = f.add_subplot(121)\n",
    "    ax2 = f.add_subplot(122)\n",
    "    ax.set_ylabel('Quads',fontsize=12)\n",
    "    ax.plot(opt0.X_obs)\n",
    "    ax2.set_ylabel('Obj_state_s',fontsize=12)\n",
    "    ax2.plot(Obj_state_s0)\n",
    "    plt.show(); \n",
    "    \n",
    "    if (i>1) and (i<10):\n",
    "        opt0.optimize_log_lik()    \n",
    "        \n",
    "    opt0.OptIter()\n"
   ]
  },
  {
   "cell_type": "code",
   "execution_count": null,
   "metadata": {
    "collapsed": true
   },
   "outputs": [],
   "source": [
    "#save results if desired\n",
    "if saveResultsQ == True:\n",
    "    timestr = datetime.now().strftime('%Y-%m-%d-%H%M%S')\n",
    "    try: os.mkdir('saved_results')\n",
    "    except: pass\n",
    "    results = {}\n",
    "    results['scan_params'] = scan_params\n",
    "    results['xs'] = opt.X_obs\n",
    "    results['ys'] = np.array([y[0][0] for y in opt.Y_obs])\n",
    "    results['time'] = timestr\n",
    "    np.save('saved_results/scan_'+timestr, results)"
   ]
  },
  {
   "cell_type": "markdown",
   "metadata": {},
   "source": [
    "# UCB function "
   ]
  },
  {
   "cell_type": "code",
   "execution_count": null,
   "metadata": {
    "collapsed": true
   },
   "outputs": [],
   "source": [
    "import numpy as np\n",
    "import matplotlib.pyplot as plt\n",
    "\n",
    "nsteps=np.linspace(1,20,100)\n",
    "ndim=4\n",
    "nu=0.002*120\n",
    "delta=0.4\n",
    "tau = 2.*np.log(nsteps**(0.5*ndim+2.)*(np.pi**2.)/3./delta)\n",
    "\n",
    "plt.plot(nsteps,np.sqrt(nu * tau)); plt.xlabel('nsteps');\n",
    "plt.ylabel('np.sqrt(nu * tau)'); plt.title('ndim'+ str(ndim)+'UCB: [nu,delta]=['+ str(nu) + str(delta)+']'); plt.show()\n",
    "\n",
    "ybest = 0.1\n",
    "sigma_y = 0.01\n",
    "plt.plot(nsteps, np.sqrt(nu * tau* sigma_y**2)); plt.xlabel('nsteps');plt.show()"
   ]
  },
  {
   "cell_type": "code",
   "execution_count": null,
   "metadata": {
    "collapsed": true
   },
   "outputs": [],
   "source": [
    "xs = [m*mi.x for m in np.linspace(-3, 3, 100)]\n",
    "ys = [gp.predict(x)[0] for x in xs]\n",
    "ys_std = [gp.predict(x)[1] for x in xs]\n",
    "negEIs = [negExpImprove(x, gp, opt.best_seen()[1], 0, 1) for x in xs]\n",
    "negUCBs = [negUCB(x, gp, ndim, nsteps, nu = 1., delta = 1.) for x in xs]\n",
    "xs = np.array([x[0][0] for x in xs])\n",
    "ys = np.array([y[0][0] for y in ys])\n",
    "ys_std = np.array([y_std[0][0] for y_std in ys_std])\n",
    "EIs = -1.*np.array([negEI[0][0] for negEI in negEIs])\n",
    "UCBs = -1.*np.array([negUCB[0][0] for negUCB in negUCBs])"
   ]
  },
  {
   "cell_type": "code",
   "execution_count": null,
   "metadata": {
    "collapsed": true
   },
   "outputs": [],
   "source": [
    "import matplotlib.pyplot as plt\n",
    "plt.plot(xs, ys, label='GP prediction')\n",
    "plt.fill_between(xs, ys-ys_std, ys+ys_std, alpha=0.4)\n",
    "plt.plot(xs, UCBs, c='g', label='UCB acq func')\n",
    "plt.legend(loc=1)\n",
    "plt.show()\n"
   ]
  },
  {
   "cell_type": "code",
   "execution_count": null,
   "metadata": {
    "collapsed": true
   },
   "outputs": [],
   "source": []
  }
 ],
 "metadata": {
  "kernelspec": {
   "display_name": "Python 2",
   "language": "python",
   "name": "python2"
  },
  "language_info": {
   "codemirror_mode": {
    "name": "ipython",
    "version": 2
   },
   "file_extension": ".py",
   "mimetype": "text/x-python",
   "name": "python",
   "nbconvert_exporter": "python",
   "pygments_lexer": "ipython2",
   "version": "2.7.13"
  }
 },
 "nbformat": 4,
 "nbformat_minor": 4
}
