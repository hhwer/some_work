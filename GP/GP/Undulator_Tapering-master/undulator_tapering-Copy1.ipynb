{
 "cells": [
  {
   "cell_type": "markdown",
   "metadata": {},
   "source": [
    "# Undulator tapering"
   ]
  },
  {
   "cell_type": "code",
   "execution_count": 1,
   "metadata": {
    "collapsed": true
   },
   "outputs": [],
   "source": [
    "'''\n",
    "best results for K:  (array([-0.00038487]), array([[ 20.78804564]]))\n",
    "'''\n",
    "\n",
    "\n",
    "%load_ext autoreload\n",
    "%autoreload 2\n",
    "%matplotlib inline\n",
    "from __future__ import absolute_import\n",
    "from __future__ import division\n",
    "from __future__ import print_function\n",
    "\n",
    "from modules.bayes_optimization import BayesOpt, negUCB, negExpImprove\n",
    "# from modules.bayes_optimization_lik_opt import BayesOpt, negUCB, negExpImprove\n",
    "\n",
    "from modules.OnlineGP import OGP\n",
    "import numpy as np\n",
    "import importlib\n",
    "\n",
    "\n",
    "mi_module = importlib.import_module('machine_interfaces.undulator_interface')\n",
    "import time\n",
    "import matplotlib.pyplot as plt\n",
    "from IPython.display import clear_output\n",
    "\n",
    "saveResultsQ = True\n",
    "\n",
    "#how long to wait between acquisitions\n",
    "acquisition_delay = 0 \n",
    "\n",
    "#create the machine interface\n",
    "dev_ids = ['und_k']\n",
    "start_point = 1    \n",
    "mi = mi_module.machine_interface(dev_ids = dev_ids, start_point = start_point)"
   ]
  },
  {
   "cell_type": "code",
   "execution_count": 28,
   "metadata": {},
   "outputs": [],
   "source": [
    "def convert_long(l,N=200):\n",
    "    #result=[3.5]*66\n",
    "    result=[]\n",
    "    step = N//len(l)\n",
    "    for i in range(len(l)-1):\n",
    "        result = result + [l[i]]*step\n",
    "    result = result + [l[-1]]*(N-step*(len(l)-1))\n",
    "    return result\n",
    "def convert_short(l,n=32):\n",
    "    step=len(l)//n\n",
    "    result=[]\n",
    "    for i in range(len(l)):\n",
    "        if(i%step==(step-1)):\n",
    "            result.append(l[i])\n",
    "    return result[11:n]\n",
    "def taper_get(param_K):\n",
    "    '''\n",
    "    Input:\n",
    "    unduK is an array to represent taper profile (recommend to be a shape of (200,)\n",
    "    \n",
    "    Output:\n",
    "    z is the position array along the undulator\n",
    "    power_z is the output power along undulator\n",
    "    '''\n",
    "    \n",
    "    starting_step_short = 11\n",
    "    z_steps_short = 32\n",
    "    const_K = 3.5\n",
    "    n_z = 2\n",
    "    unduK_1=const_K*np.ones(int(starting_step_short))\n",
    "    \n",
    "    '''modified by huang'''\n",
    "    unduK_2=const_K+param_K*np.arange(1,1+z_steps_short-starting_step_short)**n_z\n",
    "    \n",
    "    #unduK_2=const_K+param_K*np.arange(z_steps_short-starting_step_short)**n_z\n",
    "    undu_K=np.concatenate((unduK_1,unduK_2))\n",
    "    unduK = np.array(convert_long(undu_K))\n",
    "    return unduK\n",
    "\n",
    "def taper_get2(param_K, best_K=None):\n",
    "    '''\n",
    "    Input:\n",
    "    unduK is an array to represent taper profile (recommend to be a shape of (200,)\n",
    "    \n",
    "    Output:\n",
    "    z is the position array along the undulator\n",
    "    power_z is the output power along undulator\n",
    "    '''\n",
    "    \n",
    "    starting_step_short = 11\n",
    "    z_steps_short = 32\n",
    "    const_K = 3.5\n",
    "    n_z = 2\n",
    "    unduK_1=const_K*np.ones(int(starting_step_short))\n",
    "    \n",
    "    \n",
    "    '''modified by huang'''\n",
    "    param_K = param_K.flatten()\n",
    "    \n",
    "    if best_K is None:\n",
    "    \n",
    "        '''modified by huang'''\n",
    "        unduK_2=const_K+param_K*np.arange(1,1+z_steps_short-starting_step_short)**n_z\n",
    "        \n",
    "        #unduK_2=const_K+param_K*np.arange(z_steps_short-starting_step_short)**n_z\n",
    "        undu_K=np.concatenate((unduK_1,unduK_2))\n",
    "        unduK = np.array(convert_long(undu_K))\n",
    "    \n",
    "    else:\n",
    "        '''modified by huang: fine tune parameter in the best quad case'''\n",
    "        unduK_2=const_K+best_K*np.arange(1,1+z_steps_short-starting_step_short)**n_z\n",
    "        assert unduK_2.shape == param_K.shape\n",
    "        unduK_2 += param_K\n",
    "        undu_K=np.concatenate((unduK_1,unduK_2))\n",
    "        unduK = np.array(convert_long(undu_K))\n",
    "    return unduK\n",
    "                         \n",
    "tap = taper_get(np.array([-0.00038487]))\n",
    "convert_short(3.5-tap)[0]\n",
    "\n",
    "tap_short = convert_short(tap)\n",
    "length_scale_zoom = convert_short(3.5-tap)\n"
   ]
  },
  {
   "cell_type": "code",
   "execution_count": 20,
   "metadata": {},
   "outputs": [
    {
     "data": {
      "text/plain": [
       "[0.00038486999999998162,\n",
       " 0.0015394799999999265,\n",
       " 0.0034638299999998345,\n",
       " 0.0061579200000001499,\n",
       " 0.0096217499999999845,\n",
       " 0.013855319999999782,\n",
       " 0.018858629999999987,\n",
       " 0.024631680000000156,\n",
       " 0.031174469999999843,\n",
       " 0.038486999999999938,\n",
       " 0.046569269999999996,\n",
       " 0.055421280000000017,\n",
       " 0.065043030000000002,\n",
       " 0.075434519999999949,\n",
       " 0.08659574999999986,\n",
       " 0.098526720000000179,\n",
       " 0.11122743000000002,\n",
       " 0.12469787999999982,\n",
       " 0.13893807000000002,\n",
       " 0.1539480000000002,\n",
       " 0.16972766999999989]"
      ]
     },
     "execution_count": 20,
     "metadata": {},
     "output_type": "execute_result"
    }
   ],
   "source": [
    "convert_short(3.5-tap)"
   ]
  },
  {
   "cell_type": "code",
   "execution_count": 14,
   "metadata": {},
   "outputs": [],
   "source": [
    "import numpy as np\n",
    "a = np.array([1,2,3,4])"
   ]
  },
  {
   "cell_type": "code",
   "execution_count": 5,
   "metadata": {},
   "outputs": [],
   "source": [
    "a = [i+i  for i in a]"
   ]
  },
  {
   "cell_type": "code",
   "execution_count": 11,
   "metadata": {},
   "outputs": [],
   "source": [
    "x=np.array([1,1,3,4], ndmin=2)\n",
    "y=np.array([1,1,3,4], ndmin=2)+1"
   ]
  },
  {
   "cell_type": "code",
   "execution_count": 41,
   "metadata": {},
   "outputs": [],
   "source": [
    "x = np.array([[1,2],[3,4]])\n",
    "y = np.array([[11,2],[-3,5]])\n",
    "x[x[:][0]<y[:][0]] = y[x[:][0]<y[:][0]] "
   ]
  },
  {
   "cell_type": "code",
   "execution_count": 42,
   "metadata": {},
   "outputs": [
    {
     "data": {
      "text/plain": [
       "array([[11,  2],\n",
       "       [ 3,  4]])"
      ]
     },
     "execution_count": 42,
     "metadata": {},
     "output_type": "execute_result"
    }
   ],
   "source": [
    "x"
   ]
  },
  {
   "cell_type": "code",
   "execution_count": 59,
   "metadata": {},
   "outputs": [
    {
     "data": {
      "text/plain": [
       "(array([-0.00038487]), array([[ 20.78804564]]))"
      ]
     },
     "execution_count": 59,
     "metadata": {},
     "output_type": "execute_result"
    }
   ],
   "source": [
    "opt.best_seen()"
   ]
  },
  {
   "cell_type": "code",
   "execution_count": 60,
   "metadata": {},
   "outputs": [
    {
     "name": "stdout",
     "output_type": "stream",
     "text": [
      "(array([[-0.00037487]]), array([[ 20.63189175]]))\n",
      "(array([[-0.00037592]]), array([[ 20.68277009]]))\n",
      "(array([[-0.00037698]]), array([[ 20.65781173]]))\n",
      "(array([[-0.00037803]]), array([[ 20.6368296]]))\n",
      "(array([[-0.00037908]]), array([[ 20.62084819]]))\n",
      "(array([[-0.00038013]]), array([[ 20.68674869]]))\n",
      "(array([[-0.00038119]]), array([[ 20.72973516]]))\n",
      "(array([[-0.00038224]]), array([[ 20.79069785]]))\n",
      "(array([[-0.00038329]]), array([[ 20.78775135]]))\n",
      "(array([[-0.00038434]]), array([[ 20.80249157]]))\n",
      "(array([[-0.0003854]]), array([[ 20.8118562]]))\n",
      "(array([[-0.00038645]]), array([[ 20.81429269]]))\n",
      "(array([[-0.0003875]]), array([[ 20.85966127]]))\n",
      "(array([[-0.00038855]]), array([[ 20.85818273]]))\n",
      "(array([[-0.00038961]]), array([[ 20.82051178]]))\n",
      "(array([[-0.00039066]]), array([[ 20.77240479]]))\n",
      "(array([[-0.00039171]]), array([[ 20.72103381]]))\n",
      "(array([[-0.00039276]]), array([[ 20.75583665]]))\n",
      "(array([[-0.00039382]]), array([[ 20.76851434]]))\n",
      "(array([[-0.00039487]]), array([[ 20.72411638]]))\n"
     ]
    },
    {
     "data": {
      "text/plain": [
       "0.0726411537572033"
      ]
     },
     "execution_count": 60,
     "metadata": {},
     "output_type": "execute_result"
    }
   ],
   "source": [
    "k=np.linspace(-1,1,20)\n",
    "x_list = []\n",
    "y_list = []\n",
    "y = []\n",
    "for i in k:\n",
    "    #pass in param_K\n",
    "    mi.setX(-0.00038487-i/100000)\n",
    "    s=mi.getState()\n",
    "    print(s)\n",
    "    yi = s[1][0][0]\n",
    "    y.append(yi) # y = [mi.getState()[1][0] for x in range(10)]\n",
    "    x_list.append(s[0])\n",
    "    y_list.append(s[1])\n",
    "np.std(y)"
   ]
  },
  {
   "cell_type": "code",
   "execution_count": null,
   "metadata": {
    "collapsed": true
   },
   "outputs": [],
   "source": [
    "# y=[]\n",
    "# for i in range(10):\n",
    "#     yi = mi.getState()[1][0]\n",
    "#     print(yi)\n",
    "#     y.append(yi) # y = [mi.getState()[1][0] for x in range(10)]\n",
    "# np.std(y)"
   ]
  },
  {
   "cell_type": "code",
   "execution_count": null,
   "metadata": {},
   "outputs": [],
   "source": [
    "# k=np.linspace(3,4,5)\n",
    "# y=[]\n",
    "# for i in k:\n",
    "#     #pass in param_K\n",
    "#     mi.setX(-i/1000)\n",
    "#     s=mi.getState()\n",
    "#     print(s)\n",
    "#     yi = s[1][0][0]\n",
    "#     y.append(yi) # y = [mi.getState()[1][0] for x in range(10)]\n",
    "# np.std(y)"
   ]
  },
  {
   "cell_type": "code",
   "execution_count": null,
   "metadata": {},
   "outputs": [],
   "source": [
    "#%matplotlib inline\n",
    "#plt.plot(-k/1000,y,'.')"
   ]
  },
  {
   "cell_type": "markdown",
   "metadata": {},
   "source": [
    "**Create the gp**"
   ]
  },
  {
   "cell_type": "code",
   "execution_count": 48,
   "metadata": {},
   "outputs": [],
   "source": [
    "#build gp surrogte model\n",
    "ndim = len(dev_ids)\n",
    "ndim = 21\n",
    "#1. gp_lengthscales - learning rate\n",
    "#gp_lengthscales = np.array([1])\n",
    "#gp_lengthscales = np.array([0.0001])\n",
    "\n",
    "gp_lengthscales = np.array([0.1])*length_scale_zoom\n",
    "t = [0.00001] + [0.0001]*(len(length_scale_zoom)-1)\n",
    "gp_lengthscales = np.array(t)\n",
    "\n",
    "#gp_precisionmat = 1/np.diag(gp_lengthscales**(2))\n",
    "\n",
    "#gp_precisionmat = np.diag(np.log(1./gp_lengthscales**(2)))\n",
    "gp_precisionmat = np.log(1./gp_lengthscales**(2))\n",
    "\n",
    "#2. gp_amp\n",
    "#gp_amp = 0.1\n",
    "gp_amp = 1\n",
    "#3. gp_noise\n",
    "#gp_noise = 0.0001 \n",
    "gp_noise =  10**(-4)\n",
    "\n",
    "hyps = [gp_precisionmat, np.log(gp_amp), np.log(gp_noise**2)] #format the hyperparams for the OGP\n",
    "gp = OGP(ndim, hyps)\n",
    "\n"
   ]
  },
  {
   "cell_type": "code",
   "execution_count": 47,
   "metadata": {},
   "outputs": [
    {
     "data": {
      "text/plain": [
       "[0.00038486999999998162,\n",
       " 0.0015394799999999265,\n",
       " 0.0034638299999998345,\n",
       " 0.0061579200000001499,\n",
       " 0.0096217499999999845,\n",
       " 0.013855319999999782,\n",
       " 0.018858629999999987,\n",
       " 0.024631680000000156,\n",
       " 0.031174469999999843,\n",
       " 0.038486999999999938,\n",
       " 0.046569269999999996,\n",
       " 0.055421280000000017,\n",
       " 0.065043030000000002,\n",
       " 0.075434519999999949,\n",
       " 0.08659574999999986,\n",
       " 0.098526720000000179,\n",
       " 0.11122743000000002,\n",
       " 0.12469787999999982,\n",
       " 0.13893807000000002,\n",
       " 0.1539480000000002,\n",
       " 0.16972766999999989]"
      ]
     },
     "execution_count": 47,
     "metadata": {},
     "output_type": "execute_result"
    }
   ],
   "source": [
    "length_scale_zoom"
   ]
  },
  {
   "cell_type": "code",
   "execution_count": 49,
   "metadata": {},
   "outputs": [
    {
     "name": "stdout",
     "output_type": "stream",
     "text": [
      "('target_func = ', <machine_interfaces.undulator_interface.machine_interface instance at 0x00000000095FB5C8>)\n",
      "********* BO - self.mi = self.target_func WORKED!\n",
      "Supposed to be grabbing machine state...\n",
      "('x_init', array([[0, 0, 0, 0, 0, 0, 0, 0, 0, 0, 0, 0, 0, 0, 0, 0, 0, 0, 0, 0, 0]]))\n",
      "('y_init', array([[ 20.78878436]]))\n",
      "ucb_params [2, None]\n"
     ]
    }
   ],
   "source": [
    "#create the bayesian optimizer that will use the gp as the model to optimize the machine \n",
    "#opt = BayesOpt(gp, mi, acq_func=\"UCB\", start_dev_vals = mi.x, dev_ids = dev_ids)\n",
    "#mi.setX(-0.004)\n",
    "#opt = BayesOpt(gp, mi, acq_func=\"UCB\", start_dev_vals = -0.004, dev_ids = dev_ids, bounds=((-np.inf, 0)))\n",
    "\n",
    "bounds=((-0.00875,0),)\n",
    "bounds = tuple([(-x,y) for x,y in zip(tap_short, length_scale_zoom)])\n",
    "\n",
    "\n",
    "mi.set_best_K(-0.00038487)\n",
    "mi.setX(np.array([0]*21))\n",
    "s=mi.getState()\n",
    "opt = BayesOpt(gp, mi, acq_func=\"UCB\", dev_ids = dev_ids, bounds=bounds)\n",
    "\n",
    "opt.ucb_params = [2,None]\n",
    "print('ucb_params',opt.ucb_params)"
   ]
  },
  {
   "cell_type": "code",
   "execution_count": 50,
   "metadata": {},
   "outputs": [],
   "source": [
    "Obj_state_s=[]"
   ]
  },
  {
   "cell_type": "code",
   "execution_count": 51,
   "metadata": {},
   "outputs": [
    {
     "name": "stdout",
     "output_type": "stream",
     "text": [
      "iteration = 0\n",
      "current position: [[0 0 0 0 0 0 0 0 0 0 0 0 0 0 0 0 0 0 0 0 0]] current objective value: [[ 20.78878436]]\n",
      "best position: [0 0 0 0 0 0 0 0 0 0 0 0 0 0 0 0 0 0 0 0 0] best objective value: [[ 20.78878436]]\n",
      "time= 12.6549999714\n",
      "use minimize add by huang\n",
      "iteration = 1\n",
      "current position: [[  8.19722290e-06  -4.50577826e-05   6.01600866e-07   5.04843891e-06\n",
      "    1.10258306e-04   3.63722941e-05  -6.61980985e-05   1.36569740e-05\n",
      "    4.80280016e-05  -1.61430392e-04   5.23501348e-05  -2.26643359e-05\n",
      "   -6.95656497e-05  -1.18285670e-04   6.25775826e-05   2.18069696e-05\n",
      "   -3.78296981e-06  -1.11177882e-05  -3.16833608e-05  -4.52148485e-05\n",
      "   -4.26089209e-05]] current objective value: [[ 20.78303852]]\n",
      "best position: [ 0.  0.  0.  0.  0.  0.  0.  0.  0.  0.  0.  0.  0.  0.  0.  0.  0.  0.\n",
      "  0.  0.  0.] best objective value: [[ 20.78878436]]\n",
      "time= 23.9750001431\n",
      "use minimize add by huang\n",
      "iteration = 2\n",
      "current position: [[  8.55136136e-06  -4.43520917e-05   3.02760431e-06   2.67006138e-06\n",
      "    1.12146070e-04   3.64653904e-05  -6.82994570e-05   1.57718611e-05\n",
      "    5.05177074e-05  -1.64154826e-04   5.38735214e-05  -2.38161907e-05\n",
      "   -6.67909984e-05  -1.16228853e-04   6.31152584e-05   2.24460243e-05\n",
      "   -5.15431480e-06  -1.28858203e-05  -3.43968243e-05  -4.27591406e-05\n",
      "   -3.99945984e-05]] current objective value: [[ 20.78005096]]\n",
      "best position: [ 0.  0.  0.  0.  0.  0.  0.  0.  0.  0.  0.  0.  0.  0.  0.  0.  0.  0.\n",
      "  0.  0.  0.] best objective value: [[ 20.78878436]]\n",
      "time= 27.1940000057\n",
      "use minimize add by huang\n",
      "iteration = 3\n",
      "current position: [[  7.81901276e-06  -4.68697727e-05   3.28757797e-06   5.45244862e-06\n",
      "    1.12660969e-04   3.39646536e-05  -7.08587841e-05   1.56763163e-05\n",
      "    4.97588417e-05  -1.61374427e-04   5.46360178e-05  -2.48261510e-05\n",
      "   -6.81093934e-05  -1.16392777e-04   6.54422528e-05   1.86381072e-05\n",
      "   -5.88065885e-06  -1.29864411e-05  -3.29950514e-05  -4.36170841e-05\n",
      "   -4.11036209e-05]] current objective value: [[ 20.77663054]]\n",
      "best position: [ 0.  0.  0.  0.  0.  0.  0.  0.  0.  0.  0.  0.  0.  0.  0.  0.  0.  0.\n",
      "  0.  0.  0.] best objective value: [[ 20.78878436]]\n",
      "time= 31.9849998951\n",
      "use minimize add by huang\n",
      "iteration = 4\n",
      "current position: [[  8.06855036e-06  -4.30133809e-05   3.63953968e-06   6.97647618e-06\n",
      "    1.13167562e-04   3.82257427e-05  -6.95179266e-05   1.65391481e-05\n",
      "    5.09211353e-05  -1.59612138e-04   5.51843954e-05  -2.09627951e-05\n",
      "   -6.66731595e-05  -1.15432902e-04   6.53536098e-05   2.36208718e-05\n",
      "   -2.10486548e-06  -9.46371667e-06  -3.00849128e-05  -4.23484933e-05\n",
      "   -3.97331436e-05]] current objective value: [[ 20.77149745]]\n",
      "best position: [ 0.  0.  0.  0.  0.  0.  0.  0.  0.  0.  0.  0.  0.  0.  0.  0.  0.  0.\n",
      "  0.  0.  0.] best objective value: [[ 20.78878436]]\n",
      "time= 30.1390001774\n",
      "use minimize add by huang\n",
      "iteration = 5\n",
      "current position: [[  7.98483350e-06  -4.73607840e-05  -7.00586270e-07   2.78170631e-06\n",
      "    1.12381655e-04   3.44268060e-05  -7.00867621e-05   1.71318652e-05\n",
      "    5.14329971e-05  -1.60452889e-04   5.07714792e-05  -2.39358120e-05\n",
      "   -6.57644524e-05  -1.20052458e-04   6.22249240e-05   2.41289430e-05\n",
      "   -4.08204212e-06  -1.08894457e-05  -3.03223075e-05  -4.07102528e-05\n",
      "   -3.82981719e-05]] current objective value: [[ 20.78599804]]\n",
      "best position: [ 0.  0.  0.  0.  0.  0.  0.  0.  0.  0.  0.  0.  0.  0.  0.  0.  0.  0.\n",
      "  0.  0.  0.] best objective value: [[ 20.78878436]]\n",
      "time= 29.7070000172\n",
      "use minimize add by huang\n",
      "iteration = 6\n",
      "current position: [[  8.24387641e-06  -4.75795612e-05   1.09440845e-06   8.70358202e-06\n",
      "    1.12057174e-04   3.48941141e-05  -6.47116382e-05   1.64682049e-05\n",
      "    5.13430160e-05  -1.56392657e-04   5.33667020e-05  -2.45009953e-05\n",
      "   -6.56601993e-05  -1.16604976e-04   6.28400567e-05   2.27543943e-05\n",
      "   -5.50041936e-06  -1.31254254e-05  -3.44343416e-05  -4.13988679e-05\n",
      "   -3.86714910e-05]] current objective value: [[ 20.77645928]]\n",
      "best position: [ 0.  0.  0.  0.  0.  0.  0.  0.  0.  0.  0.  0.  0.  0.  0.  0.  0.  0.\n",
      "  0.  0.  0.] best objective value: [[ 20.78878436]]\n",
      "time= 33.7599999905\n",
      "use minimize add by huang\n",
      "iteration = 7\n",
      "current position: [[  7.69902426e-06  -4.19263797e-05   1.34165628e-06   2.70706529e-06\n",
      "    1.12877354e-04   3.41967032e-05  -6.20809027e-05   1.69912143e-05\n",
      "    5.13454005e-05  -1.62016560e-04   5.35978414e-05  -2.41650353e-05\n",
      "   -6.60348117e-05  -1.17111119e-04   6.44275166e-05   2.16935964e-05\n",
      "   -4.80940752e-06  -1.18856931e-05  -3.18965710e-05  -4.13303935e-05\n",
      "   -3.88200056e-05]] current objective value: [[ 20.77201061]]\n",
      "best position: [ 0.  0.  0.  0.  0.  0.  0.  0.  0.  0.  0.  0.  0.  0.  0.  0.  0.  0.\n",
      "  0.  0.  0.] best objective value: [[ 20.78878436]]\n",
      "time= 33.6619999409\n",
      "use minimize add by huang\n",
      "iteration = 8\n",
      "current position: [[  8.01178200e-06  -4.36142664e-05   1.64870708e-06   9.68508395e-06\n",
      "    1.15896913e-04   3.34122182e-05  -6.78014374e-05   1.33065834e-05\n",
      "    4.96417956e-05  -1.64158656e-04   5.17867734e-05  -2.44322650e-05\n",
      "   -6.60102319e-05  -1.16716375e-04   6.02230158e-05   2.34491526e-05\n",
      "   -5.23709166e-06  -1.31995955e-05  -3.00122386e-05  -4.16348474e-05\n",
      "   -3.87747175e-05]] current objective value: [[ 20.77055537]]\n",
      "best position: [ 0.  0.  0.  0.  0.  0.  0.  0.  0.  0.  0.  0.  0.  0.  0.  0.  0.  0.\n",
      "  0.  0.  0.] best objective value: [[ 20.78878436]]\n",
      "time= 33.7059998512\n",
      "use minimize add by huang\n",
      "iteration = 9\n",
      "current position: [[  7.94051579e-06  -4.72008130e-05   5.07691673e-06   4.55917141e-06\n",
      "    1.16028969e-04   3.51177421e-05  -6.61081823e-05   1.46374758e-05\n",
      "    4.93356092e-05  -1.60794536e-04   5.13029344e-05  -2.43559720e-05\n",
      "   -6.77887067e-05  -1.18928040e-04   6.65818957e-05   2.82125490e-05\n",
      "   -5.18754955e-06  -1.26153390e-05  -3.33803627e-05  -4.33656219e-05\n",
      "   -4.07155507e-05]] current objective value: [[ 20.77163347]]\n",
      "best position: [ 0.  0.  0.  0.  0.  0.  0.  0.  0.  0.  0.  0.  0.  0.  0.  0.  0.  0.\n",
      "  0.  0.  0.] best objective value: [[ 20.78878436]]\n",
      "time= 33.8340001106\n",
      "use minimize add by huang\n"
     ]
    }
   ],
   "source": [
    "import time\n",
    "end = time.time()\n",
    "Niter = 10\n",
    "for i in range(Niter):\n",
    "#    clear_output(wait=True) \n",
    "    print ('iteration =', i)\n",
    "    print ('current position:', mi.x, 'current objective value:', mi.getState()[1])\n",
    "    \n",
    "    x_best, y_best = opt.best_seen()\n",
    "    print('best position:', x_best, 'best objective value:', y_best)\n",
    "    Obj_state_s.append(mi.getState()[1][0])\n",
    "    print('time=', time.time()-end)\n",
    "    end = time.time()\n",
    "\n",
    "    #plotting\n",
    "#    f = plt.figure(figsize=(20,3))\n",
    "#    ax = f.add_subplot(121)\n",
    "#    ax2 = f.add_subplot(122)\n",
    "#    ax.set_ylabel('K',fontsize=12)\n",
    "#    ax.plot(opt.X_obs,'.-')\n",
    "#    ax2.set_ylabel('Obj_state_s',fontsize=12)\n",
    "#    ax2.plot(Obj_state_s,'.-')\n",
    "#    plt.show(); \n",
    "    \n",
    "    #optimization\n",
    "    opt.OptIter()"
   ]
  },
  {
   "cell_type": "code",
   "execution_count": 11,
   "metadata": {},
   "outputs": [],
   "source": [
    "a=np.ones([21,])\n",
    "b=np.ones([2,2])"
   ]
  },
  {
   "cell_type": "code",
   "execution_count": null,
   "metadata": {},
   "outputs": [],
   "source": [
    "opt.OptIter()"
   ]
  },
  {
   "cell_type": "code",
   "execution_count": 10,
   "metadata": {},
   "outputs": [
    {
     "name": "stdout",
     "output_type": "stream",
     "text": [
      "None\n"
     ]
    }
   ],
   "source": [
    "print(gp.precisionMatrix)"
   ]
  },
  {
   "cell_type": "code",
   "execution_count": null,
   "metadata": {},
   "outputs": [],
   "source": [
    "gp.update(x_list[0],y_list[0])\n",
    "gp.update(x_list[2],y_list[2])\n"
   ]
  },
  {
   "cell_type": "code",
   "execution_count": null,
   "metadata": {},
   "outputs": [],
   "source": [
    "a=[np.array([[ 32.2361913]]), 0.0]"
   ]
  },
  {
   "cell_type": "code",
   "execution_count": null,
   "metadata": {},
   "outputs": [],
   "source": [
    "gp.computeCov(x_list[0],x_list[1])\n"
   ]
  },
  {
   "cell_type": "code",
   "execution_count": null,
   "metadata": {},
   "outputs": [],
   "source": [
    "gp.KB[0]"
   ]
  },
  {
   "cell_type": "code",
   "execution_count": null,
   "metadata": {},
   "outputs": [],
   "source": [
    "for x,y in zip(x_list[::], y_list[::]):\n",
    "    print(x,y)\n",
    "    gp.update(x,y)\n",
    "    \n",
    "#for i in range(5):\n",
    "#    gp.update(x_list[0], y_list[0])"
   ]
  },
  {
   "cell_type": "code",
   "execution_count": null,
   "metadata": {},
   "outputs": [],
   "source": [
    "for x,y in zip(x_list[::], y_list[::]):\n",
    "    print(x,y,gp.predict(np.array(x, ndmin=2)))"
   ]
  },
  {
   "cell_type": "code",
   "execution_count": null,
   "metadata": {},
   "outputs": [],
   "source": [
    "x_obs_uniq = []\n",
    "y_obs_uniq = []\n",
    "for i,(x,y) in enumerate(zip(opt.X_obs,opt.Y_obs)):\n",
    "    if x in x_obs_uniq:\n",
    "        continue\n",
    "    else:\n",
    "        x_obs_uniq.append(x)\n",
    "        y_obs_uniq.append(y)\n"
   ]
  },
  {
   "cell_type": "code",
   "execution_count": null,
   "metadata": {},
   "outputs": [],
   "source": [
    "for x,y in zip(x_obs_uniq, y_obs_uniq):\n",
    "    print(x,y)\n",
    "    gp.update(np.array(x, ndmin=2),y)\n",
    "    "
   ]
  },
  {
   "cell_type": "code",
   "execution_count": null,
   "metadata": {},
   "outputs": [],
   "source": [
    "t=[]\n",
    "for x,y in zip(x_obs_uniq, y_obs_uniq):\n",
    "    print(x,y,gp.predict(np.array(x, ndmin=2)))\n",
    "    t.append(gp.predict(np.array(x, ndmin=2))[0][0])"
   ]
  },
  {
   "cell_type": "code",
   "execution_count": null,
   "metadata": {},
   "outputs": [],
   "source": [
    "fig, ax = plt.subplots()\n",
    "#ax.set_xscale(\"log\")\n",
    "ax.set_yscale(\"log\")\n",
    "plt.scatter(x_obs_uniq,t)\n",
    "plt.scatter(x_obs_uniq,y_obs_uniq)\n",
    "ax.set_xlim(min(x_obs_uniq), max(x_obs_uniq))"
   ]
  },
  {
   "cell_type": "code",
   "execution_count": 5,
   "metadata": {},
   "outputs": [],
   "source": [
    "opt.lengthscales[0]=1"
   ]
  },
  {
   "cell_type": "code",
   "execution_count": 106,
   "metadata": {},
   "outputs": [
    {
     "data": {
      "text/plain": [
       "(array([-0.00038487]), array([[ 20.78804564]]))"
      ]
     },
     "execution_count": 106,
     "metadata": {},
     "output_type": "execute_result"
    }
   ],
   "source": [
    "#opt.model.predict(np.array(-0.00093098, ndmin=2))\n",
    "opt.best_seen()"
   ]
  },
  {
   "cell_type": "code",
   "execution_count": 53,
   "metadata": {},
   "outputs": [
    {
     "data": {
      "text/plain": [
       "<matplotlib.text.Text at 0xd1aa978>"
      ]
     },
     "execution_count": 53,
     "metadata": {},
     "output_type": "execute_result"
    },
    {
     "data": {
      "image/png": "[encoded data removed]",
      "text/plain": [
       "<matplotlib.figure.Figure at 0xd187d68>"
      ]
     },
     "metadata": {},
     "output_type": "display_data"
    }
   ],
   "source": [
    "plt.plot(opt.X_obs)\n",
    "plot.plot()\n",
    "plt.xlabel('iteration')\n",
    "plt.ylabel('param_K')\n",
    "plt.title('param_K for iteration')"
   ]
  },
  {
   "cell_type": "code",
   "execution_count": 70,
   "metadata": {},
   "outputs": [
    {
     "data": {
      "text/plain": [
       "(array([18], dtype=int64), array([0], dtype=int64))"
      ]
     },
     "execution_count": 70,
     "metadata": {},
     "output_type": "execute_result"
    }
   ],
   "source": [
    "t = np.array(Obj_state_s)\n",
    "np.where(t==t.max())"
   ]
  },
  {
   "cell_type": "code",
   "execution_count": 97,
   "metadata": {},
   "outputs": [
    {
     "data": {
      "text/plain": [
       "<matplotlib.text.Text at 0xf919668>"
      ]
     },
     "execution_count": 97,
     "metadata": {},
     "output_type": "execute_result"
    },
    {
     "data": {
      "image/png": "[encoded data removed]",
      "text/plain": [
       "<matplotlib.figure.Figure at 0xf699080>"
      ]
     },
     "metadata": {},
     "output_type": "display_data"
    }
   ],
   "source": [
    "plt.plot(Obj_state_s[:-1],'-')\n",
    "plt.xlabel('iteration')\n",
    "plt.ylabel('power_z ')\n",
    "plt.title('power_z for iteration')\n",
    "#plt.plot(18,np.array(Obj_state_s).max(),'o')\n"
   ]
  },
  {
   "cell_type": "code",
   "execution_count": 86,
   "metadata": {},
   "outputs": [],
   "source": [
    "from machine_interfaces.taper_output import taper_output\n",
    "z,power_z = taper_output(-0.00038487)\n",
    "#plt.plot(t)"
   ]
  },
  {
   "cell_type": "code",
   "execution_count": 89,
   "metadata": {},
   "outputs": [
    {
     "data": {
      "text/plain": [
       "<matplotlib.text.Text at 0xf15cd68>"
      ]
     },
     "execution_count": 89,
     "metadata": {},
     "output_type": "execute_result"
    },
    {
     "data": {
      "image/png": "[encoded data removed]",
      "text/plain": [
       "<matplotlib.figure.Figure at 0xe5d2be0>"
      ]
     },
     "metadata": {},
     "output_type": "display_data"
    }
   ],
   "source": [
    "plt.plot(power_z)\n",
    "plt.ylabel('power')\n",
    "plt.title('best power_z')"
   ]
  },
  {
   "cell_type": "code",
   "execution_count": 58,
   "metadata": {},
   "outputs": [
    {
     "data": {
      "text/plain": [
       "(array([-0.00038487]), array([[ 20.78804564]]))"
      ]
     },
     "execution_count": 58,
     "metadata": {},
     "output_type": "execute_result"
    }
   ],
   "source": [
    "opt.best_seen()"
   ]
  },
  {
   "cell_type": "markdown",
   "metadata": {},
   "source": [
    "**Running BO**\n",
    "\n",
    "*run the gp search for some number of steps*"
   ]
  },
  {
   "cell_type": "code",
   "execution_count": 34,
   "metadata": {
    "collapsed": true
   },
   "outputs": [],
   "source": [
    "Obj_state_s=[]"
   ]
  },
  {
   "cell_type": "code",
   "execution_count": 41,
   "metadata": {},
   "outputs": [
    {
     "name": "stdout",
     "output_type": "stream",
     "text": [
      "iteration = 0\n",
      "current position: [[0 0 0 0 0 0 0 0 0 0 0 0 0 0 0 0 0 0 0 0 0]] current objective value: [[ 20.78878436]]\n",
      "best position: [0 0 0 0 0 0 0 0 0 0 0 0 0 0 0 0 0 0 0 0 0] best objective value: [[ 20.78878436]]\n",
      "time= 12.5699999332\n",
      "use minimize add by huang\n",
      "iteration = 1\n",
      "current position: [[  3.15486518e-06  -6.93655552e-06   2.08384313e-07   3.10878829e-06\n",
      "    1.06087785e-04   5.03949774e-05  -1.24840545e-04   3.36394214e-05\n",
      "    1.49724749e-04  -6.21297149e-04   2.43790756e-04  -1.25608651e-04\n",
      "   -4.52476064e-04  -8.92282276e-04   5.41895270e-04   2.14856919e-04\n",
      "   -4.20770010e-05  -1.38636462e-04  -4.40202501e-04  -6.96073549e-04\n",
      "   -7.23191287e-04]] current objective value: [[ 20.53542968]]\n",
      "best position: [ 0.  0.  0.  0.  0.  0.  0.  0.  0.  0.  0.  0.  0.  0.  0.  0.  0.  0.\n",
      "  0.  0.  0.] best objective value: [[ 20.78878436]]\n",
      "time= 23.1809999943\n",
      "use minimize add by huang\n",
      "iteration = 2\n",
      "current position: [[  3.21075319e-06  -6.61054674e-06   9.51836306e-07   4.43259704e-06\n",
      "    1.08156804e-04   5.33745255e-05  -1.20785008e-04   3.89364518e-05\n",
      "    1.56428795e-04  -6.13020562e-04   2.53805415e-04  -1.13690389e-04\n",
      "   -4.38488669e-04  -8.76060216e-04   5.60517526e-04   2.36044903e-04\n",
      "   -1.81577588e-05  -1.11820430e-04  -4.10324148e-04  -6.62967344e-04\n",
      "   -6.86691698e-04]] current objective value: [[ 20.53491046]]\n",
      "best position: [ 0.  0.  0.  0.  0.  0.  0.  0.  0.  0.  0.  0.  0.  0.  0.  0.  0.  0.\n",
      "  0.  0.  0.] best objective value: [[ 20.78878436]]\n",
      "time= 25.7320001125\n",
      "use minimize add by huang\n",
      "iteration = 3\n",
      "current position: [[  3.54942109e-06  -6.80970600e-06   4.80842672e-07   3.59366125e-06\n",
      "    1.06846111e-04   5.14874453e-05  -1.23353261e-04   3.55822084e-05\n",
      "    1.52183738e-04  -6.18261253e-04   2.47464271e-04  -1.21236803e-04\n",
      "   -4.47345167e-04  -8.86331612e-04   5.48726420e-04   2.22629276e-04\n",
      "   -3.33027179e-05  -1.28799532e-04  -4.29242203e-04  -6.83929162e-04\n",
      "   -7.09802089e-04]] current objective value: [[ 20.53172008]]\n",
      "best position: [ 0.  0.  0.  0.  0.  0.  0.  0.  0.  0.  0.  0.  0.  0.  0.  0.  0.  0.\n",
      "  0.  0.  0.] best objective value: [[ 20.78878436]]\n",
      "time= 29.0769999027\n",
      "use minimize add by huang\n",
      "iteration = 4\n",
      "current position: [[  3.30659203e-06  -5.34036524e-06   5.31847949e-07   3.40777873e-06\n",
      "    1.06508464e-04   5.09914338e-05  -1.24029229e-04   3.47007454e-05\n",
      "    1.51069996e-04  -6.19634488e-04   2.45804178e-04  -1.23211170e-04\n",
      "   -4.49661237e-04  -8.89016813e-04   5.45644667e-04   2.19123555e-04\n",
      "   -3.72598138e-05  -1.33235405e-04  -4.34184250e-04  -6.89404776e-04\n",
      "   -7.15838660e-04]] current objective value: [[ 20.53324522]]\n",
      "best position: [ 0.  0.  0.  0.  0.  0.  0.  0.  0.  0.  0.  0.  0.  0.  0.  0.  0.  0.\n",
      "  0.  0.  0.] best objective value: [[ 20.78878436]]\n",
      "time= 29.5260000229\n",
      "use minimize add by huang\n",
      "iteration = 5\n",
      "current position: [[  3.30325164e-06  -6.42609419e-06   3.81117774e-06   3.48912167e-06\n",
      "    1.06370869e-04   5.07851382e-05  -1.24296004e-04   3.43656844e-05\n",
      "    1.50656448e-04  -6.20136994e-04   2.45202342e-04  -1.23922567e-04\n",
      "   -4.50492308e-04  -8.89977576e-04   5.44544260e-04   2.17873607e-04\n",
      "   -3.86691612e-05  -1.34813981e-04  -4.35941860e-04  -6.91351210e-04\n",
      "   -7.17983690e-04]] current objective value: [[ 20.53842497]]\n",
      "best position: [ 0.  0.  0.  0.  0.  0.  0.  0.  0.  0.  0.  0.  0.  0.  0.  0.  0.  0.\n",
      "  0.  0.  0.] best objective value: [[ 20.78878436]]\n",
      "time= 29.2079999447\n"
     ]
    },
    {
     "ename": "KeyboardInterrupt",
     "evalue": "",
     "output_type": "error",
     "traceback": [
      "\u001b[1;31m\u001b[0m",
      "\u001b[1;31mKeyboardInterrupt\u001b[0mTraceback (most recent call last)",
      "\u001b[1;32m<ipython-input-41-045b6f8c3017>\u001b[0m in \u001b[0;36m<module>\u001b[1;34m()\u001b[0m\n\u001b[0;32m     24\u001b[0m \u001b[1;33m\u001b[0m\u001b[0m\n\u001b[0;32m     25\u001b[0m     \u001b[1;31m#optimization\u001b[0m\u001b[1;33m\u001b[0m\u001b[1;33m\u001b[0m\u001b[0m\n\u001b[1;32m---> 26\u001b[1;33m     \u001b[0mopt\u001b[0m\u001b[1;33m.\u001b[0m\u001b[0mOptIter\u001b[0m\u001b[1;33m(\u001b[0m\u001b[1;33m)\u001b[0m\u001b[1;33m\u001b[0m\u001b[0m\n\u001b[0m",
      "\u001b[1;32mC:\\Users\\Admin\\Documents\\some_work\\GP\\GP\\Undulator_Tapering-master\\modules\\bayes_optimization.pyc\u001b[0m in \u001b[0;36mOptIter\u001b[1;34m(self, pause)\u001b[0m\n\u001b[0;32m    250\u001b[0m \u001b[1;33m\u001b[0m\u001b[0m\n\u001b[0;32m    251\u001b[0m         \u001b[1;31m# get next point to try using acquisition function\u001b[0m\u001b[1;33m\u001b[0m\u001b[1;33m\u001b[0m\u001b[0m\n\u001b[1;32m--> 252\u001b[1;33m         \u001b[0mx_next\u001b[0m \u001b[1;33m=\u001b[0m \u001b[0mself\u001b[0m\u001b[1;33m.\u001b[0m\u001b[0macquire\u001b[0m\u001b[1;33m(\u001b[0m\u001b[1;33m)\u001b[0m\u001b[1;33m\u001b[0m\u001b[0m\n\u001b[0m\u001b[0;32m    253\u001b[0m         \u001b[1;32mif\u001b[0m\u001b[1;33m(\u001b[0m\u001b[0mself\u001b[0m\u001b[1;33m.\u001b[0m\u001b[0macq_func\u001b[0m\u001b[1;33m[\u001b[0m\u001b[1;36m0\u001b[0m\u001b[1;33m]\u001b[0m \u001b[1;33m==\u001b[0m \u001b[1;34m'testEI'\u001b[0m\u001b[1;33m)\u001b[0m\u001b[1;33m:\u001b[0m\u001b[1;33m\u001b[0m\u001b[0m\n\u001b[0;32m    254\u001b[0m             \u001b[0mind\u001b[0m \u001b[1;33m=\u001b[0m \u001b[0mx_next\u001b[0m\u001b[1;33m\u001b[0m\u001b[0m\n",
      "\u001b[1;32mC:\\Users\\Admin\\Documents\\some_work\\GP\\GP\\Undulator_Tapering-master\\modules\\bayes_optimization.pyc\u001b[0m in \u001b[0;36macquire\u001b[1;34m(self, alpha)\u001b[0m\n\u001b[0;32m    421\u001b[0m                 \u001b[1;32mfor\u001b[0m \u001b[0mi\u001b[0m \u001b[1;32min\u001b[0m \u001b[0misearch\u001b[0m\u001b[1;33m:\u001b[0m\u001b[1;33m\u001b[0m\u001b[0m\n\u001b[0;32m    422\u001b[0m \u001b[1;33m\u001b[0m\u001b[0m\n\u001b[1;32m--> 423\u001b[1;33m                     \u001b[0mvs\u001b[0m \u001b[1;33m=\u001b[0m \u001b[0mparallelgridsearch\u001b[0m\u001b[1;33m(\u001b[0m\u001b[0maqfcn\u001b[0m\u001b[1;33m,\u001b[0m\u001b[0mself\u001b[0m\u001b[1;33m.\u001b[0m\u001b[0mX_obs\u001b[0m\u001b[1;33m[\u001b[0m\u001b[0mi\u001b[0m\u001b[1;33m]\u001b[0m\u001b[1;33m,\u001b[0m\u001b[0mself\u001b[0m\u001b[1;33m.\u001b[0m\u001b[0msearchBoundScaleFactor\u001b[0m \u001b[1;33m*\u001b[0m \u001b[1;36m0.6\u001b[0m\u001b[1;33m*\u001b[0m\u001b[0mself\u001b[0m\u001b[1;33m.\u001b[0m\u001b[0mlengthscales\u001b[0m\u001b[1;33m,\u001b[0m\u001b[0mfargs\u001b[0m\u001b[1;33m,\u001b[0m\u001b[0mneval\u001b[0m\u001b[1;33m,\u001b[0m\u001b[0mnkeep\u001b[0m\u001b[1;33m)\u001b[0m\u001b[1;33m\u001b[0m\u001b[0m\n\u001b[0m\u001b[0;32m    424\u001b[0m \u001b[1;33m\u001b[0m\u001b[0m\n\u001b[0;32m    425\u001b[0m                     \u001b[1;32mif\u001b[0m \u001b[0mtype\u001b[0m\u001b[1;33m(\u001b[0m\u001b[0mv0s\u001b[0m\u001b[1;33m)\u001b[0m \u001b[1;33m==\u001b[0m \u001b[0mtype\u001b[0m\u001b[1;33m(\u001b[0m\u001b[0mNone\u001b[0m\u001b[1;33m)\u001b[0m\u001b[1;33m:\u001b[0m\u001b[1;33m\u001b[0m\u001b[0m\n",
      "\u001b[1;32mC:\\Users\\Admin\\Documents\\some_work\\GP\\GP\\Undulator_Tapering-master\\modules\\parallelstuff.py\u001b[0m in \u001b[0;36mparallelgridsearch\u001b[1;34m(f, x0, lengths, fargs, neval, nkeep)\u001b[0m\n\u001b[0;32m    464\u001b[0m \u001b[1;33m\u001b[0m\u001b[0m\n\u001b[0;32m    465\u001b[0m                 \u001b[1;32mexcept\u001b[0m\u001b[1;33m:\u001b[0m\u001b[1;33m\u001b[0m\u001b[0m\n\u001b[1;32m--> 466\u001b[1;33m                     \u001b[0mtime\u001b[0m\u001b[1;33m.\u001b[0m\u001b[0msleep\u001b[0m\u001b[1;33m(\u001b[0m\u001b[0mrecovery_sleep_time_seconds\u001b[0m\u001b[1;33m)\u001b[0m \u001b[1;31m# wait a bit for processes to close before trying again\u001b[0m\u001b[1;33m\u001b[0m\u001b[0m\n\u001b[0m\u001b[0;32m    467\u001b[0m \u001b[1;33m\u001b[0m\u001b[0m\n\u001b[0;32m    468\u001b[0m         \u001b[1;31m## return nkeep smallest values\u001b[0m\u001b[1;33m\u001b[0m\u001b[1;33m\u001b[0m\u001b[0m\n",
      "\u001b[1;31mKeyboardInterrupt\u001b[0m: "
     ]
    }
   ],
   "source": [
    "import time\n",
    "end = time.time()\n",
    "Niter = 10\n",
    "for i in range(Niter):\n",
    "#    clear_output(wait=True) \n",
    "    print ('iteration =', i)\n",
    "    print ('current position:', mi.x, 'current objective value:', mi.getState()[1])\n",
    "    \n",
    "    x_best, y_best = opt.best_seen()\n",
    "    print('best position:', x_best, 'best objective value:', y_best)\n",
    "    Obj_state_s.append(mi.getState()[1][0])\n",
    "    print('time=', time.time()-end)\n",
    "    end = time.time()\n",
    "\n",
    "    #plotting\n",
    "#    f = plt.figure(figsize=(20,3))\n",
    "#    ax = f.add_subplot(121)\n",
    "#    ax2 = f.add_subplot(122)\n",
    "#    ax.set_ylabel('K',fontsize=12)\n",
    "#    ax.plot(opt.X_obs,'.-')\n",
    "#    ax2.set_ylabel('Obj_state_s',fontsize=12)\n",
    "#    ax2.plot(Obj_state_s,'.-')\n",
    "#    plt.show(); \n",
    "    \n",
    "    #optimization\n",
    "    opt.OptIter()"
   ]
  },
  {
   "cell_type": "code",
   "execution_count": 73,
   "metadata": {},
   "outputs": [],
   "source": [
    "def convert_long(l,N=200):\n",
    "    #result=[3.5]*66\n",
    "    result=[]\n",
    "    step = N//len(l)\n",
    "    for i in range(len(l)-1):\n",
    "        result = result + [l[i]]*step\n",
    "    result = result + [l[-1]]*(N-step*(len(l)-1))\n",
    "    return result\n",
    "\n",
    "def taper_get(param_K):\n",
    "    '''\n",
    "    Input:\n",
    "    unduK is an array to represent taper profile (recommend to be a shape of (200,)\n",
    "    \n",
    "    Output:\n",
    "    z is the position array along the undulator\n",
    "    power_z is the output power along undulator\n",
    "    '''\n",
    "    \n",
    "    starting_step_short = 11\n",
    "    z_steps_short = 32\n",
    "    const_K = 3.5\n",
    "    n_z = 2\n",
    "    unduK_1=const_K*np.ones(int(starting_step_short))\n",
    "    \n",
    "    '''modified by huang'''\n",
    "    unduK_2=const_K+param_K*np.arange(1,1+z_steps_short-starting_step_short)**n_z\n",
    "    \n",
    "    #unduK_2=const_K+param_K*np.arange(z_steps_short-starting_step_short)**n_z\n",
    "    undu_K=np.concatenate((unduK_1,unduK_2))\n",
    "    unduK = np.array(convert_long(undu_K))\n",
    "    return unduK\n",
    "\n",
    "def taper_get2(param_K, best_K=None):\n",
    "    '''\n",
    "    Input:\n",
    "    unduK is an array to represent taper profile (recommend to be a shape of (200,)\n",
    "    \n",
    "    Output:\n",
    "    z is the position array along the undulator\n",
    "    power_z is the output power along undulator\n",
    "    '''\n",
    "    \n",
    "    starting_step_short = 11\n",
    "    z_steps_short = 32\n",
    "    const_K = 3.5\n",
    "    n_z = 2\n",
    "    unduK_1=const_K*np.ones(int(starting_step_short))\n",
    "    \n",
    "    \n",
    "    '''modified by huang'''\n",
    "    param_K = param_K.flatten()\n",
    "    \n",
    "    if best_K is None:\n",
    "    \n",
    "        '''modified by huang'''\n",
    "        unduK_2=const_K+param_K*np.arange(1,1+z_steps_short-starting_step_short)**n_z\n",
    "        \n",
    "        #unduK_2=const_K+param_K*np.arange(z_steps_short-starting_step_short)**n_z\n",
    "        undu_K=np.concatenate((unduK_1,unduK_2))\n",
    "        unduK = np.array(convert_long(undu_K))\n",
    "    \n",
    "    else:\n",
    "        '''modified by huang: fine tune parameter in the best quad case'''\n",
    "        unduK_2=const_K+best_K*np.arange(1,1+z_steps_short-starting_step_short)**n_z\n",
    "        assert unduK_2.shape == param_K.shape\n",
    "        unduK_2 += param_K\n",
    "        undu_K=np.concatenate((unduK_1,unduK_2))\n",
    "        unduK = np.array(convert_long(undu_K))\n",
    "    return unduK\n",
    "                         \n",
    "tap = taper_get(np.array([-0.00038487]))\n",
    "#plt.title('taper')"
   ]
  },
  {
   "cell_type": "code",
   "execution_count": 74,
   "metadata": {},
   "outputs": [
    {
     "data": {
      "text/plain": [
       "[<matplotlib.lines.Line2D at 0xa01eef0>]"
      ]
     },
     "execution_count": 74,
     "metadata": {},
     "output_type": "execute_result"
    },
    {
     "data": {
      "image/png": "[encoded data removed]",
      "text/plain": [
       "<matplotlib.figure.Figure at 0x9956eb8>"
      ]
     },
     "metadata": {},
     "output_type": "display_data"
    }
   ],
   "source": [
    "plt.plot(tap)"
   ]
  },
  {
   "cell_type": "code",
   "execution_count": 14,
   "metadata": {},
   "outputs": [],
   "source": [
    "a=taper_get(opt.best_seen()[0])"
   ]
  },
  {
   "cell_type": "code",
   "execution_count": null,
   "metadata": {},
   "outputs": [],
   "source": [
    "# self=opt\n",
    "# from modules.parallelstuff import *\n",
    "# from modules.bayes_optimization import negUCB\n",
    "# #acq_func = opt.aqfcn\n",
    "# xi=0.0\n",
    "# alt_param=-1\n",
    "# aqfcn = negUCB\n",
    "# nsteps = 1 + self.X_obs.shape[0] \n",
    "# fargs = (opt.model, ndim, nsteps, opt.ucb_params[0], opt.ucb_params[1])\n",
    "# neval = 2*int(10.*2.**(ndim/12.))\n",
    "# nkeep = 2*min(8,neval)\n",
    "# nbest = 3 # add the best points seen so far (largest Y_obs)\n",
    "# nstart = 2\n",
    "# aqfcn(np.array(-0.00053092,ndmin=2), opt.model, ndim, nsteps, )\n",
    "\n",
    "\n",
    "#yobs = np.array([y[0][0] for y in opt.Y_obs])\n",
    "#isearch = yobs.argsort()[-nbest:]\n",
    "#for i in range(min(nstart,len(opt.Y_obs))): #\n",
    "#                    if np.sum(isearch == i) == 0: # not found in list\n",
    "#                        isearch = np.append(isearch, i)\n",
    "#                        isearch.sort()\n",
    "#v0s = None\n",
    "#\n",
    "#for i in isearch:\n",
    "#                    \n",
    "#                    vs = parallelgridsearch(aqfcn,opt.X_obs[i],opt.searchBoundScaleFactor * 0.6*opt.lengthscales,fargs,neval,nkeep)\n",
    "#                   \n",
    "#                    if type(v0s) == type(None):\n",
    "#                        v0s = copy.copy(vs)\n",
    "#                    else:\n",
    "#                        v0s = np.vstack((v0s,vs))\n",
    "#"
   ]
  },
  {
   "cell_type": "code",
   "execution_count": null,
   "metadata": {
    "collapsed": true
   },
   "outputs": [],
   "source": [
    "v0sort = v0s[:,-1].argsort()[:nkeep] # keep the nlargest\n",
    "v0s = v0s[v0sort]\n",
    "\n",
    "x0s = v0s[:,:-1] # for later testing if the minimize results are better than the best starting point\n",
    "v0best = v0s[0]"
   ]
  },
  {
   "cell_type": "code",
   "execution_count": null,
   "metadata": {},
   "outputs": [],
   "source": [
    "v0s"
   ]
  },
  {
   "cell_type": "code",
   "execution_count": null,
   "metadata": {
    "collapsed": true
   },
   "outputs": [],
   "source": [
    "x_in = np.array(x_new,ndmin=2)\n",
    "model.predict(np.array(x_new,ndmin=2))\n",
    "self=model\n",
    "k_x = self.computeCov(x_in, self.BV)"
   ]
  },
  {
   "cell_type": "code",
   "execution_count": null,
   "metadata": {},
   "outputs": [],
   "source": [
    "np.dot(k_x, self.alpha)\n",
    "self.alpha"
   ]
  },
  {
   "cell_type": "code",
   "execution_count": null,
   "metadata": {},
   "outputs": [],
   "source": [
    "opt.X_obs"
   ]
  },
  {
   "cell_type": "code",
   "execution_count": null,
   "metadata": {},
   "outputs": [],
   "source": [
    "model=opt.model\n",
    "x_new=-0.00059531\n",
    "delta = 1.\n",
    "nu = 1\n",
    "(y_mean, y_var) = model.predict(np.array(x_new,ndmin=2))\n",
    "y_mean, y_var\n",
    "tau = 2.*np.log(nsteps**(0.5*ndim+2.)*(np.pi**2.)/3./delta)\n",
    "GPUCB = y_mean + np.sqrt(nu * tau * y_var)\n",
    "print(y_mean, y_var, GPUCB)"
   ]
  },
  {
   "cell_type": "code",
   "execution_count": null,
   "metadata": {},
   "outputs": [],
   "source": [
    "a=((-np.inf,0),)\n",
    "x = np.array([-0.004,1])\n",
    "max(x)"
   ]
  },
  {
   "cell_type": "code",
   "execution_count": null,
   "metadata": {},
   "outputs": [],
   "source": [
    "x = np.array([2,1])\n",
    "x0s=x\n",
    "bounds=((-np.inf,0),)\n",
    "np.random.uniform(max(x0s.min(), bounds[0][0]), min(x0s.max(), bounds[0][1]))"
   ]
  },
  {
   "cell_type": "code",
   "execution_count": null,
   "metadata": {},
   "outputs": [],
   "source": [
    "opt.X_obs"
   ]
  },
  {
   "cell_type": "markdown",
   "metadata": {},
   "source": [
    "# BO with likelihood optimiztion on the fly"
   ]
  },
  {
   "cell_type": "code",
   "execution_count": null,
   "metadata": {},
   "outputs": [],
   "source": [
    "#create the machine interface\n",
    "dev_ids = scan_params['dev_ids']\n",
    "start_point =  start_point\n",
    "mi0 = mi_module.machine_interface(dev_ids = dev_ids, start_point = start_point)\n",
    "\n",
    "\n",
    "ndim = len(dev_ids)\n",
    "\n",
    "gp_precisionmat = scan_params['gp_precisionmat']\n",
    "gp_amp = scan_params['gp_amp'] \n",
    "gp_noise = scan_params['gp_noise'] #std\n",
    "\n",
    "hyps = [gp_precisionmat, np.log(gp_amp), np.log(gp_noise**2)] #format the hyperparams for the OGP\n",
    "gp0 = OGP(ndim, hyps)"
   ]
  },
  {
   "cell_type": "code",
   "execution_count": null,
   "metadata": {
    "collapsed": true
   },
   "outputs": [],
   "source": [
    "#create the bayesian optimizer that will use the gp as the model to optimize the machine \n",
    "opt0 = BayesOpt(gp0, mi0, acq_func=\"UCB\", start_dev_vals = mi0.x, dev_ids = dev_ids)\n",
    "opt0.ucb_params = opt.ucb_params\n",
    "print('ucb_params',opt0.ucb_params)\n",
    "Obj_state_s0=[]"
   ]
  },
  {
   "cell_type": "code",
   "execution_count": null,
   "metadata": {
    "collapsed": true
   },
   "outputs": [],
   "source": [
    "for i in range(Niter):\n",
    "    clear_output(wait=True) \n",
    "    print ('iteration =', i)\n",
    "    print ('current position:', mi0.x, 'current objective value:', mi0.getState()[1])\n",
    "   \n",
    "    Obj_state_s0.append(mi0.getState()[1][0])\n",
    "    \n",
    "    f = plt.figure(figsize=(20,3))\n",
    "    ax = f.add_subplot(121)\n",
    "    ax2 = f.add_subplot(122)\n",
    "    ax.set_ylabel('Quads',fontsize=12)\n",
    "    ax.plot(opt0.X_obs)\n",
    "    ax2.set_ylabel('Obj_state_s',fontsize=12)\n",
    "    ax2.plot(Obj_state_s0)\n",
    "    plt.show(); \n",
    "    \n",
    "    if (i>1) and (i<10):\n",
    "        opt0.optimize_log_lik()    \n",
    "        \n",
    "    opt0.OptIter()\n"
   ]
  },
  {
   "cell_type": "code",
   "execution_count": null,
   "metadata": {
    "collapsed": true
   },
   "outputs": [],
   "source": [
    "#save results if desired\n",
    "if saveResultsQ == True:\n",
    "    timestr = datetime.now().strftime('%Y-%m-%d-%H%M%S')\n",
    "    try: os.mkdir('saved_results')\n",
    "    except: pass\n",
    "    results = {}\n",
    "    results['scan_params'] = scan_params\n",
    "    results['xs'] = opt.X_obs\n",
    "    results['ys'] = np.array([y[0][0] for y in opt.Y_obs])\n",
    "    results['time'] = timestr\n",
    "    np.save('saved_results/scan_'+timestr, results)"
   ]
  },
  {
   "cell_type": "markdown",
   "metadata": {},
   "source": [
    "# UCB function "
   ]
  },
  {
   "cell_type": "code",
   "execution_count": null,
   "metadata": {
    "collapsed": true
   },
   "outputs": [],
   "source": [
    "import numpy as np\n",
    "import matplotlib.pyplot as plt\n",
    "\n",
    "nsteps=np.linspace(1,20,100)\n",
    "ndim=4\n",
    "nu=0.002*120\n",
    "delta=0.4\n",
    "tau = 2.*np.log(nsteps**(0.5*ndim+2.)*(np.pi**2.)/3./delta)\n",
    "\n",
    "plt.plot(nsteps,np.sqrt(nu * tau)); plt.xlabel('nsteps');\n",
    "plt.ylabel('np.sqrt(nu * tau)'); plt.title('ndim'+ str(ndim)+'UCB: [nu,delta]=['+ str(nu) + str(delta)+']'); plt.show()\n",
    "\n",
    "ybest = 0.1\n",
    "sigma_y = 0.01\n",
    "plt.plot(nsteps, np.sqrt(nu * tau* sigma_y**2)); plt.xlabel('nsteps');plt.show()"
   ]
  },
  {
   "cell_type": "code",
   "execution_count": null,
   "metadata": {
    "collapsed": true
   },
   "outputs": [],
   "source": [
    "xs = [m*mi.x for m in np.linspace(-3, 3, 100)]\n",
    "ys = [gp.predict(x)[0] for x in xs]\n",
    "ys_std = [gp.predict(x)[1] for x in xs]\n",
    "negEIs = [negExpImprove(x, gp, opt.best_seen()[1], 0, 1) for x in xs]\n",
    "negUCBs = [negUCB(x, gp, ndim, nsteps, nu = 1., delta = 1.) for x in xs]\n",
    "xs = np.array([x[0][0] for x in xs])\n",
    "ys = np.array([y[0][0] for y in ys])\n",
    "ys_std = np.array([y_std[0][0] for y_std in ys_std])\n",
    "EIs = -1.*np.array([negEI[0][0] for negEI in negEIs])\n",
    "UCBs = -1.*np.array([negUCB[0][0] for negUCB in negUCBs])"
   ]
  },
  {
   "cell_type": "code",
   "execution_count": null,
   "metadata": {
    "collapsed": true
   },
   "outputs": [],
   "source": [
    "import matplotlib.pyplot as plt\n",
    "plt.plot(xs, ys, label='GP prediction')\n",
    "plt.fill_between(xs, ys-ys_std, ys+ys_std, alpha=0.4)\n",
    "plt.plot(xs, UCBs, c='g', label='UCB acq func')\n",
    "plt.legend(loc=1)\n",
    "plt.show()\n"
   ]
  },
  {
   "cell_type": "code",
   "execution_count": null,
   "metadata": {
    "collapsed": true
   },
   "outputs": [],
   "source": [
    "a = ((1,2),)"
   ]
  },
  {
   "cell_type": "code",
   "execution_count": null,
   "metadata": {},
   "outputs": [],
   "source": [
    "a[0][1]"
   ]
  },
  {
   "cell_type": "code",
   "execution_count": null,
   "metadata": {
    "collapsed": true
   },
   "outputs": [],
   "source": []
  },
  {
   "cell_type": "code",
   "execution_count": null,
   "metadata": {
    "collapsed": true
   },
   "outputs": [],
   "source": []
  }
 ],
 "metadata": {
  "kernelspec": {
   "display_name": "Python 2",
   "language": "python",
   "name": "python2"
  },
  "language_info": {
   "codemirror_mode": {
    "name": "ipython",
    "version": 2
   },
   "file_extension": ".py",
   "mimetype": "text/x-python",
   "name": "python",
   "nbconvert_exporter": "python",
   "pygments_lexer": "ipython2",
   "version": "2.7.13"
  }
 },
 "nbformat": 4,
 "nbformat_minor": 4
}
