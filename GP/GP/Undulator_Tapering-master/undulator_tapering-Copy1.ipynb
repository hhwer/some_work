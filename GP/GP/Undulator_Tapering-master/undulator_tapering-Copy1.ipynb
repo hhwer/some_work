{
 "cells": [
  {
   "cell_type": "markdown",
   "metadata": {},
   "source": [
    "# Undulator tapering"
   ]
  },
  {
   "cell_type": "code",
   "execution_count": 1,
   "metadata": {
    "collapsed": true
   },
   "outputs": [],
   "source": [
    "'''\n",
    "best results for K:  (array([-0.00038487]), array([[ 20.78804564]]))\n",
    "'''\n",
    "\n",
    "\n",
    "%load_ext autoreload\n",
    "%autoreload 2\n",
    "%matplotlib inline\n",
    "from __future__ import absolute_import\n",
    "from __future__ import division\n",
    "from __future__ import print_function\n",
    "\n",
    "from modules.bayes_optimization import BayesOpt, negUCB, negExpImprove\n",
    "# from modules.bayes_optimization_lik_opt import BayesOpt, negUCB, negExpImprove\n",
    "\n",
    "from modules.OnlineGP import OGP\n",
    "import numpy as np\n",
    "import importlib\n",
    "\n",
    "\n",
    "mi_module = importlib.import_module('machine_interfaces.undulator_interface')\n",
    "import time\n",
    "import matplotlib.pyplot as plt\n",
    "from IPython.display import clear_output\n",
    "\n",
    "saveResultsQ = True\n",
    "\n",
    "#how long to wait between acquisitions\n",
    "acquisition_delay = 0 \n",
    "\n",
    "#create the machine interface\n",
    "dev_ids = ['und_k']\n",
    "start_point = 1    \n",
    "mi = mi_module.machine_interface(dev_ids = dev_ids, start_point = start_point)"
   ]
  },
  {
   "cell_type": "code",
   "execution_count": 59,
   "metadata": {},
   "outputs": [
    {
     "data": {
      "text/plain": [
       "(array([-0.00038487]), array([[ 20.78804564]]))"
      ]
     },
     "execution_count": 59,
     "metadata": {},
     "output_type": "execute_result"
    }
   ],
   "source": [
    "opt.best_seen()"
   ]
  },
  {
   "cell_type": "code",
   "execution_count": 60,
   "metadata": {},
   "outputs": [
    {
     "name": "stdout",
     "output_type": "stream",
     "text": [
      "(array([[-0.00037487]]), array([[ 20.63189175]]))\n",
      "(array([[-0.00037592]]), array([[ 20.68277009]]))\n",
      "(array([[-0.00037698]]), array([[ 20.65781173]]))\n",
      "(array([[-0.00037803]]), array([[ 20.6368296]]))\n",
      "(array([[-0.00037908]]), array([[ 20.62084819]]))\n",
      "(array([[-0.00038013]]), array([[ 20.68674869]]))\n",
      "(array([[-0.00038119]]), array([[ 20.72973516]]))\n",
      "(array([[-0.00038224]]), array([[ 20.79069785]]))\n",
      "(array([[-0.00038329]]), array([[ 20.78775135]]))\n",
      "(array([[-0.00038434]]), array([[ 20.80249157]]))\n",
      "(array([[-0.0003854]]), array([[ 20.8118562]]))\n",
      "(array([[-0.00038645]]), array([[ 20.81429269]]))\n",
      "(array([[-0.0003875]]), array([[ 20.85966127]]))\n",
      "(array([[-0.00038855]]), array([[ 20.85818273]]))\n",
      "(array([[-0.00038961]]), array([[ 20.82051178]]))\n",
      "(array([[-0.00039066]]), array([[ 20.77240479]]))\n",
      "(array([[-0.00039171]]), array([[ 20.72103381]]))\n",
      "(array([[-0.00039276]]), array([[ 20.75583665]]))\n",
      "(array([[-0.00039382]]), array([[ 20.76851434]]))\n",
      "(array([[-0.00039487]]), array([[ 20.72411638]]))\n"
     ]
    },
    {
     "data": {
      "text/plain": [
       "0.0726411537572033"
      ]
     },
     "execution_count": 60,
     "metadata": {},
     "output_type": "execute_result"
    }
   ],
   "source": [
    "k=np.linspace(-1,1,20)\n",
    "x_list = []\n",
    "y_list = []\n",
    "y = []\n",
    "for i in k:\n",
    "    #pass in param_K\n",
    "    mi.setX(-0.00038487-i/100000)\n",
    "    s=mi.getState()\n",
    "    print(s)\n",
    "    yi = s[1][0][0]\n",
    "    y.append(yi) # y = [mi.getState()[1][0] for x in range(10)]\n",
    "    x_list.append(s[0])\n",
    "    y_list.append(s[1])\n",
    "np.std(y)"
   ]
  },
  {
   "cell_type": "code",
   "execution_count": null,
   "metadata": {
    "collapsed": true
   },
   "outputs": [],
   "source": [
    "# y=[]\n",
    "# for i in range(10):\n",
    "#     yi = mi.getState()[1][0]\n",
    "#     print(yi)\n",
    "#     y.append(yi) # y = [mi.getState()[1][0] for x in range(10)]\n",
    "# np.std(y)"
   ]
  },
  {
   "cell_type": "code",
   "execution_count": null,
   "metadata": {},
   "outputs": [],
   "source": [
    "# k=np.linspace(3,4,5)\n",
    "# y=[]\n",
    "# for i in k:\n",
    "#     #pass in param_K\n",
    "#     mi.setX(-i/1000)\n",
    "#     s=mi.getState()\n",
    "#     print(s)\n",
    "#     yi = s[1][0][0]\n",
    "#     y.append(yi) # y = [mi.getState()[1][0] for x in range(10)]\n",
    "# np.std(y)"
   ]
  },
  {
   "cell_type": "code",
   "execution_count": null,
   "metadata": {},
   "outputs": [],
   "source": [
    "#%matplotlib inline\n",
    "#plt.plot(-k/1000,y,'.')"
   ]
  },
  {
   "cell_type": "markdown",
   "metadata": {},
   "source": [
    "**Create the gp**"
   ]
  },
  {
   "cell_type": "code",
   "execution_count": 2,
   "metadata": {},
   "outputs": [],
   "source": [
    "#build gp surrogte model\n",
    "ndim = len(dev_ids)\n",
    "#1. gp_lengthscales - learning rate\n",
    "#gp_lengthscales = np.array([1])\n",
    "#gp_lengthscales = np.array([0.0001])\n",
    "\n",
    "gp_lengthscales = np.array([0.001])\n",
    "\n",
    "#gp_precisionmat = 1/np.diag(gp_lengthscales**(2))\n",
    "\n",
    "#gp_precisionmat = np.diag(np.log(1./gp_lengthscales**(2)))\n",
    "gp_precisionmat = np.log(1./gp_lengthscales**(2))\n",
    "\n",
    "#2. gp_amp\n",
    "#gp_amp = 0.1\n",
    "gp_amp = 1\n",
    "#3. gp_noise\n",
    "#gp_noise = 0.0001 \n",
    "gp_noise =  10**(-4)\n",
    "\n",
    "hyps = [gp_precisionmat, np.log(gp_amp), np.log(gp_noise**2)] #format the hyperparams for the OGP\n",
    "gp = OGP(ndim, hyps)\n",
    "\n"
   ]
  },
  {
   "cell_type": "code",
   "execution_count": 10,
   "metadata": {},
   "outputs": [
    {
     "name": "stdout",
     "output_type": "stream",
     "text": [
      "None\n"
     ]
    }
   ],
   "source": [
    "print(gp.precisionMatrix)"
   ]
  },
  {
   "cell_type": "code",
   "execution_count": null,
   "metadata": {},
   "outputs": [],
   "source": [
    "gp.update(x_list[0],y_list[0])\n",
    "gp.update(x_list[2],y_list[2])\n"
   ]
  },
  {
   "cell_type": "code",
   "execution_count": null,
   "metadata": {},
   "outputs": [],
   "source": [
    "a=[np.array([[ 32.2361913]]), 0.0]"
   ]
  },
  {
   "cell_type": "code",
   "execution_count": null,
   "metadata": {},
   "outputs": [],
   "source": [
    "gp.computeCov(x_list[0],x_list[1])\n"
   ]
  },
  {
   "cell_type": "code",
   "execution_count": null,
   "metadata": {},
   "outputs": [],
   "source": [
    "gp.KB[0]"
   ]
  },
  {
   "cell_type": "code",
   "execution_count": null,
   "metadata": {},
   "outputs": [],
   "source": [
    "for x,y in zip(x_list[::], y_list[::]):\n",
    "    print(x,y)\n",
    "    gp.update(x,y)\n",
    "    \n",
    "#for i in range(5):\n",
    "#    gp.update(x_list[0], y_list[0])"
   ]
  },
  {
   "cell_type": "code",
   "execution_count": null,
   "metadata": {},
   "outputs": [],
   "source": [
    "for x,y in zip(x_list[::], y_list[::]):\n",
    "    print(x,y,gp.predict(np.array(x, ndmin=2)))"
   ]
  },
  {
   "cell_type": "code",
   "execution_count": null,
   "metadata": {},
   "outputs": [],
   "source": [
    "x_obs_uniq = []\n",
    "y_obs_uniq = []\n",
    "for i,(x,y) in enumerate(zip(opt.X_obs,opt.Y_obs)):\n",
    "    if x in x_obs_uniq:\n",
    "        continue\n",
    "    else:\n",
    "        x_obs_uniq.append(x)\n",
    "        y_obs_uniq.append(y)\n"
   ]
  },
  {
   "cell_type": "code",
   "execution_count": null,
   "metadata": {},
   "outputs": [],
   "source": [
    "for x,y in zip(x_obs_uniq, y_obs_uniq):\n",
    "    print(x,y)\n",
    "    gp.update(np.array(x, ndmin=2),y)\n",
    "    "
   ]
  },
  {
   "cell_type": "code",
   "execution_count": null,
   "metadata": {},
   "outputs": [],
   "source": [
    "t=[]\n",
    "for x,y in zip(x_obs_uniq, y_obs_uniq):\n",
    "    print(x,y,gp.predict(np.array(x, ndmin=2)))\n",
    "    t.append(gp.predict(np.array(x, ndmin=2))[0][0])"
   ]
  },
  {
   "cell_type": "code",
   "execution_count": null,
   "metadata": {},
   "outputs": [],
   "source": [
    "fig, ax = plt.subplots()\n",
    "#ax.set_xscale(\"log\")\n",
    "ax.set_yscale(\"log\")\n",
    "plt.scatter(x_obs_uniq,t)\n",
    "plt.scatter(x_obs_uniq,y_obs_uniq)\n",
    "ax.set_xlim(min(x_obs_uniq), max(x_obs_uniq))"
   ]
  },
  {
   "cell_type": "code",
   "execution_count": 3,
   "metadata": {},
   "outputs": [
    {
     "name": "stdout",
     "output_type": "stream",
     "text": [
      "('target_func = ', <machine_interfaces.undulator_interface.machine_interface instance at 0x0000000009689308>)\n",
      "********* BO - self.mi = self.target_func WORKED!\n",
      "Supposed to be grabbing machine state...\n",
      "('x_init', array([[-0.001]]))\n",
      "('y_init', array([[ 1.98301731]]))\n",
      "ucb_params [2, None]\n"
     ]
    }
   ],
   "source": [
    "#create the bayesian optimizer that will use the gp as the model to optimize the machine \n",
    "#opt = BayesOpt(gp, mi, acq_func=\"UCB\", start_dev_vals = mi.x, dev_ids = dev_ids)\n",
    "#mi.setX(-0.004)\n",
    "#opt = BayesOpt(gp, mi, acq_func=\"UCB\", start_dev_vals = -0.004, dev_ids = dev_ids, bounds=((-np.inf, 0)))\n",
    "\n",
    "\n",
    "mi.setX(-0.001)\n",
    "s=mi.getState()\n",
    "opt = BayesOpt(gp, mi, acq_func=\"UCB\", dev_ids = dev_ids, bounds=((-0.00875,0),))\n",
    "\n",
    "opt.ucb_params = [2,None]\n",
    "print('ucb_params',opt.ucb_params)"
   ]
  },
  {
   "cell_type": "code",
   "execution_count": 5,
   "metadata": {},
   "outputs": [],
   "source": [
    "opt.lengthscales[0]=1"
   ]
  },
  {
   "cell_type": "code",
   "execution_count": null,
   "metadata": {},
   "outputs": [],
   "source": [
    "opt.OptIter()"
   ]
  },
  {
   "cell_type": "code",
   "execution_count": 106,
   "metadata": {},
   "outputs": [
    {
     "data": {
      "text/plain": [
       "(array([-0.00038487]), array([[ 20.78804564]]))"
      ]
     },
     "execution_count": 106,
     "metadata": {},
     "output_type": "execute_result"
    }
   ],
   "source": [
    "#opt.model.predict(np.array(-0.00093098, ndmin=2))\n",
    "opt.best_seen()"
   ]
  },
  {
   "cell_type": "code",
   "execution_count": 53,
   "metadata": {},
   "outputs": [
    {
     "data": {
      "text/plain": [
       "<matplotlib.text.Text at 0xd1aa978>"
      ]
     },
     "execution_count": 53,
     "metadata": {},
     "output_type": "execute_result"
    },
    {
     "data": {
      "image/png": "[encoded data removed]",
      "text/plain": [
       "<matplotlib.figure.Figure at 0xd187d68>"
      ]
     },
     "metadata": {},
     "output_type": "display_data"
    }
   ],
   "source": [
    "plt.plot(opt.X_obs)\n",
    "plot.plot()\n",
    "plt.xlabel('iteration')\n",
    "plt.ylabel('param_K')\n",
    "plt.title('param_K for iteration')"
   ]
  },
  {
   "cell_type": "code",
   "execution_count": 70,
   "metadata": {},
   "outputs": [
    {
     "data": {
      "text/plain": [
       "(array([18], dtype=int64), array([0], dtype=int64))"
      ]
     },
     "execution_count": 70,
     "metadata": {},
     "output_type": "execute_result"
    }
   ],
   "source": [
    "t = np.array(Obj_state_s)\n",
    "np.where(t==t.max())"
   ]
  },
  {
   "cell_type": "code",
   "execution_count": 97,
   "metadata": {},
   "outputs": [
    {
     "data": {
      "text/plain": [
       "<matplotlib.text.Text at 0xf919668>"
      ]
     },
     "execution_count": 97,
     "metadata": {},
     "output_type": "execute_result"
    },
    {
     "data": {
      "image/png": "[encoded data removed]",
      "text/plain": [
       "<matplotlib.figure.Figure at 0xf699080>"
      ]
     },
     "metadata": {},
     "output_type": "display_data"
    }
   ],
   "source": [
    "plt.plot(Obj_state_s[:-1],'-')\n",
    "plt.xlabel('iteration')\n",
    "plt.ylabel('power_z ')\n",
    "plt.title('power_z for iteration')\n",
    "#plt.plot(18,np.array(Obj_state_s).max(),'o')\n"
   ]
  },
  {
   "cell_type": "code",
   "execution_count": 86,
   "metadata": {},
   "outputs": [],
   "source": [
    "from machine_interfaces.taper_output import taper_output\n",
    "z,power_z = taper_output(-0.00038487)\n",
    "#plt.plot(t)"
   ]
  },
  {
   "cell_type": "code",
   "execution_count": 89,
   "metadata": {},
   "outputs": [
    {
     "data": {
      "text/plain": [
       "<matplotlib.text.Text at 0xf15cd68>"
      ]
     },
     "execution_count": 89,
     "metadata": {},
     "output_type": "execute_result"
    },
    {
     "data": {
      "image/png": "[encoded data removed]",
      "text/plain": [
       "<matplotlib.figure.Figure at 0xe5d2be0>"
      ]
     },
     "metadata": {},
     "output_type": "display_data"
    }
   ],
   "source": [
    "plt.plot(power_z)\n",
    "plt.ylabel('power')\n",
    "plt.title('best power_z')"
   ]
  },
  {
   "cell_type": "code",
   "execution_count": 58,
   "metadata": {},
   "outputs": [
    {
     "data": {
      "text/plain": [
       "(array([-0.00038487]), array([[ 20.78804564]]))"
      ]
     },
     "execution_count": 58,
     "metadata": {},
     "output_type": "execute_result"
    }
   ],
   "source": [
    "opt.best_seen()"
   ]
  },
  {
   "cell_type": "markdown",
   "metadata": {},
   "source": [
    "**Running BO**\n",
    "\n",
    "*run the gp search for some number of steps*"
   ]
  },
  {
   "cell_type": "code",
   "execution_count": 7,
   "metadata": {
    "collapsed": true
   },
   "outputs": [],
   "source": [
    "Obj_state_s=[]"
   ]
  },
  {
   "cell_type": "code",
   "execution_count": 10,
   "metadata": {},
   "outputs": [],
   "source": [
    "opt.lengthscales[0]=1e-6"
   ]
  },
  {
   "cell_type": "code",
   "execution_count": 11,
   "metadata": {},
   "outputs": [
    {
     "name": "stdout",
     "output_type": "stream",
     "text": [
      "iteration = 0\n",
      "current position: [[-0.0048054]] current objective value: [[ 0.31707588]]\n",
      "best position: [-0.00039288] best objective value: [[ 20.74847793]]\n",
      "time= 12.2869999409\n",
      "use minimize add by huang\n",
      "('spase gamma,k', array([[  2.01187066e-08]]), array([[ 1.00000001]]))\n",
      "iteration = 1\n",
      "current position: [[-0.00039196]] current objective value: [[ 20.72017732]]\n",
      "best position: [-0.00039288] best objective value: [[ 20.74847793]]\n",
      "time= 24.2309999466\n",
      "use minimize add by huang\n",
      "('spase gamma,k', array([[  2.02522340e-08]]), array([[ 1.00000001]]))\n",
      "iteration = 2\n",
      "current position: [[-0.00039104]] current objective value: [[ 20.74995253]]\n",
      "best position: [-0.00039104] best objective value: [[ 20.74995253]]\n",
      "time= 24.2969999313\n",
      "use minimize add by huang\n",
      "('spase gamma,k', array([[  2.03980690e-08]]), array([[ 1.00000001]]))\n",
      "iteration = 3\n",
      "current position: [[-0.00039012]] current objective value: [[ 20.78510941]]\n",
      "best position: [-0.00039012] best objective value: [[ 20.78510941]]\n",
      "time= 25.8540000916\n",
      "use minimize add by huang\n",
      "('spase gamma,k', array([[  2.05565694e-08]]), array([[ 1.00000001]]))\n",
      "iteration = 4\n",
      "current position: [[-0.0003892]] current objective value: [[ 20.84176599]]\n",
      "best position: [-0.0003892] best objective value: [[ 20.84176599]]\n",
      "time= 25.3459999561\n",
      "use minimize add by huang\n",
      "('spase gamma,k', array([[  2.07280972e-08]]), array([[ 1.00000001]]))\n",
      "iteration = 5\n",
      "current position: [[-0.00038828]] current objective value: [[ 20.86563977]]\n",
      "best position: [-0.00038828] best objective value: [[ 20.86563977]]\n",
      "time= 25.5390000343\n",
      "use minimize add by huang\n",
      "('spase gamma,k', array([[  2.09130189e-08]]), array([[ 1.00000001]]))\n",
      "iteration = 6\n",
      "current position: [[-0.00038736]] current objective value: [[ 20.86230849]]\n",
      "best position: [-0.00038828] best objective value: [[ 20.86563977]]\n",
      "time= 25.6570000648\n",
      "use minimize add by huang\n"
     ]
    },
    {
     "ename": "KeyboardInterrupt",
     "evalue": "",
     "output_type": "error",
     "traceback": [
      "\u001b[1;31m\u001b[0m",
      "\u001b[1;31mKeyboardInterrupt\u001b[0mTraceback (most recent call last)",
      "\u001b[1;32m<ipython-input-11-045b6f8c3017>\u001b[0m in \u001b[0;36m<module>\u001b[1;34m()\u001b[0m\n\u001b[0;32m     24\u001b[0m \u001b[1;33m\u001b[0m\u001b[0m\n\u001b[0;32m     25\u001b[0m     \u001b[1;31m#optimization\u001b[0m\u001b[1;33m\u001b[0m\u001b[1;33m\u001b[0m\u001b[0m\n\u001b[1;32m---> 26\u001b[1;33m     \u001b[0mopt\u001b[0m\u001b[1;33m.\u001b[0m\u001b[0mOptIter\u001b[0m\u001b[1;33m(\u001b[0m\u001b[1;33m)\u001b[0m\u001b[1;33m\u001b[0m\u001b[0m\n\u001b[0m",
      "\u001b[1;32mC:\\Users\\Admin\\Documents\\some_work\\GP\\GP\\Undulator_Tapering-master\\modules\\bayes_optimization.pyc\u001b[0m in \u001b[0;36mOptIter\u001b[1;34m(self, pause)\u001b[0m\n\u001b[0;32m    264\u001b[0m             \u001b[1;33m(\u001b[0m\u001b[0mx_new\u001b[0m\u001b[1;33m,\u001b[0m \u001b[0my_new\u001b[0m\u001b[1;33m)\u001b[0m \u001b[1;33m=\u001b[0m \u001b[1;33m(\u001b[0m\u001b[0mx_next\u001b[0m\u001b[1;33m,\u001b[0m \u001b[0mself\u001b[0m\u001b[1;33m.\u001b[0m\u001b[0macq_func\u001b[0m\u001b[1;33m[\u001b[0m\u001b[1;36m2\u001b[0m\u001b[1;33m]\u001b[0m\u001b[1;33m.\u001b[0m\u001b[0miloc\u001b[0m\u001b[1;33m[\u001b[0m\u001b[0mind\u001b[0m\u001b[1;33m,\u001b[0m\u001b[1;33m-\u001b[0m\u001b[1;36m1\u001b[0m\u001b[1;33m]\u001b[0m\u001b[1;33m)\u001b[0m\u001b[1;33m\u001b[0m\u001b[0m\n\u001b[0;32m    265\u001b[0m         \u001b[1;32melse\u001b[0m\u001b[1;33m:\u001b[0m\u001b[1;33m\u001b[0m\u001b[0m\n\u001b[1;32m--> 266\u001b[1;33m             \u001b[1;33m(\u001b[0m\u001b[0mx_new\u001b[0m\u001b[1;33m,\u001b[0m \u001b[0my_new\u001b[0m\u001b[1;33m)\u001b[0m \u001b[1;33m=\u001b[0m \u001b[0mself\u001b[0m\u001b[1;33m.\u001b[0m\u001b[0mmi\u001b[0m\u001b[1;33m.\u001b[0m\u001b[0mgetState\u001b[0m\u001b[1;33m(\u001b[0m\u001b[1;33m)\u001b[0m\u001b[1;33m\u001b[0m\u001b[0m\n\u001b[0m\u001b[0;32m    267\u001b[0m         \u001b[1;31m# add new entry to observed data\u001b[0m\u001b[1;33m\u001b[0m\u001b[1;33m\u001b[0m\u001b[0m\n\u001b[0;32m    268\u001b[0m         \u001b[0mself\u001b[0m\u001b[1;33m.\u001b[0m\u001b[0mX_obs\u001b[0m \u001b[1;33m=\u001b[0m \u001b[0mnp\u001b[0m\u001b[1;33m.\u001b[0m\u001b[0mconcatenate\u001b[0m\u001b[1;33m(\u001b[0m\u001b[1;33m(\u001b[0m\u001b[0mself\u001b[0m\u001b[1;33m.\u001b[0m\u001b[0mX_obs\u001b[0m\u001b[1;33m,\u001b[0m\u001b[0mx_new\u001b[0m\u001b[1;33m)\u001b[0m\u001b[1;33m,\u001b[0m\u001b[0maxis\u001b[0m\u001b[1;33m=\u001b[0m\u001b[1;36m0\u001b[0m\u001b[1;33m)\u001b[0m\u001b[1;33m\u001b[0m\u001b[0m\n",
      "\u001b[1;32mC:\\Users\\Admin\\Documents\\some_work\\GP\\GP\\Undulator_Tapering-master\\machine_interfaces\\undulator_interface.pyc\u001b[0m in \u001b[0;36mgetState\u001b[1;34m(self)\u001b[0m\n\u001b[0;32m     22\u001b[0m \u001b[1;31m#         self.x is und k\u001b[0m\u001b[1;33m\u001b[0m\u001b[1;33m\u001b[0m\u001b[0m\n\u001b[0;32m     23\u001b[0m \u001b[1;31m#         print(self.x[0][0])\u001b[0m\u001b[1;33m\u001b[0m\u001b[1;33m\u001b[0m\u001b[0m\n\u001b[1;32m---> 24\u001b[1;33m         \u001b[0mz\u001b[0m\u001b[1;33m,\u001b[0m\u001b[0mpower_z\u001b[0m \u001b[1;33m=\u001b[0m \u001b[0mtaper_output\u001b[0m\u001b[1;33m(\u001b[0m\u001b[0mself\u001b[0m\u001b[1;33m.\u001b[0m\u001b[0mx\u001b[0m\u001b[1;33m[\u001b[0m\u001b[1;36m0\u001b[0m\u001b[1;33m]\u001b[0m\u001b[1;33m[\u001b[0m\u001b[1;36m0\u001b[0m\u001b[1;33m]\u001b[0m\u001b[1;33m)\u001b[0m\u001b[1;33m\u001b[0m\u001b[0m\n\u001b[0m\u001b[0;32m     25\u001b[0m         \u001b[0mobjective_state\u001b[0m \u001b[1;33m=\u001b[0m \u001b[1;33m(\u001b[0m\u001b[0mpower_z\u001b[0m\u001b[1;33m[\u001b[0m\u001b[1;33m-\u001b[0m\u001b[1;36m1\u001b[0m\u001b[1;33m]\u001b[0m\u001b[1;33m)\u001b[0m\u001b[1;33m*\u001b[0m\u001b[1;36m10\u001b[0m\u001b[1;33m**\u001b[0m\u001b[1;33m(\u001b[0m\u001b[1;33m-\u001b[0m\u001b[1;36m10\u001b[0m\u001b[1;33m)\u001b[0m\u001b[1;33m\u001b[0m\u001b[0m\n\u001b[0;32m     26\u001b[0m         \u001b[1;32mreturn\u001b[0m \u001b[0mnp\u001b[0m\u001b[1;33m.\u001b[0m\u001b[0marray\u001b[0m\u001b[1;33m(\u001b[0m\u001b[0mself\u001b[0m\u001b[1;33m.\u001b[0m\u001b[0mx\u001b[0m\u001b[1;33m,\u001b[0m \u001b[0mndmin\u001b[0m \u001b[1;33m=\u001b[0m \u001b[1;36m2\u001b[0m\u001b[1;33m)\u001b[0m\u001b[1;33m,\u001b[0m \u001b[0mnp\u001b[0m\u001b[1;33m.\u001b[0m\u001b[0marray\u001b[0m\u001b[1;33m(\u001b[0m\u001b[1;33m[\u001b[0m\u001b[1;33m[\u001b[0m\u001b[0mobjective_state\u001b[0m\u001b[1;33m]\u001b[0m\u001b[1;33m]\u001b[0m\u001b[1;33m)\u001b[0m\u001b[1;33m\u001b[0m\u001b[0m\n",
      "\u001b[1;32mC:\\Users\\Admin\\Documents\\some_work\\GP\\GP\\Undulator_Tapering-master\\machine_interfaces\\taper_output.pyc\u001b[0m in \u001b[0;36mtaper_output\u001b[1;34m(param_K)\u001b[0m\n\u001b[0;32m     95\u001b[0m     \u001b[0mz\u001b[0m\u001b[1;33m,\u001b[0m\u001b[0mpower_z\u001b[0m\u001b[1;33m,\u001b[0m\u001b[0ms\u001b[0m\u001b[1;33m,\u001b[0m\u001b[0mpower_s\u001b[0m\u001b[1;33m,\u001b[0m\u001b[0mrho\u001b[0m\u001b[1;33m,\u001b[0m\u001b[0mdetune\u001b[0m\u001b[1;33m,\u001b[0m\u001b[0mfield\u001b[0m\u001b[1;33m,\u001b[0m\u001b[0;31m\\\u001b[0m\u001b[1;33m\u001b[0m\u001b[0m\n\u001b[0;32m     96\u001b[0m         \u001b[0mfield_s\u001b[0m\u001b[1;33m,\u001b[0m\u001b[0mgainLength\u001b[0m\u001b[1;33m,\u001b[0m\u001b[0mresWavelength\u001b[0m\u001b[1;33m,\u001b[0m\u001b[0;31m\\\u001b[0m\u001b[1;33m\u001b[0m\u001b[0m\n\u001b[1;32m---> 97\u001b[1;33m         \u001b[0mthet_out\u001b[0m\u001b[1;33m,\u001b[0m\u001b[0mgam_out\u001b[0m\u001b[1;33m,\u001b[0m\u001b[0mbunching\u001b[0m\u001b[1;33m,\u001b[0m\u001b[0mspectrum\u001b[0m\u001b[1;33m,\u001b[0m\u001b[0mfreq\u001b[0m\u001b[1;33m,\u001b[0m\u001b[0mNs\u001b[0m\u001b[1;33m,\u001b[0m\u001b[0mhistory\u001b[0m\u001b[1;33m=\u001b[0m\u001b[0msase1d_input_part\u001b[0m\u001b[1;33m.\u001b[0m\u001b[0msase\u001b[0m\u001b[1;33m(\u001b[0m\u001b[0minp_struct\u001b[0m\u001b[1;33m)\u001b[0m\u001b[1;33m\u001b[0m\u001b[0m\n\u001b[0m\u001b[0;32m     98\u001b[0m \u001b[1;33m\u001b[0m\u001b[0m\n\u001b[0;32m     99\u001b[0m \u001b[1;33m\u001b[0m\u001b[0m\n",
      "\u001b[1;32mC:\\Users\\Admin\\Documents\\some_work\\GP\\GP\\Undulator_Tapering-master\\machine_interfaces\\sase1d_input_part.pyc\u001b[0m in \u001b[0;36msase\u001b[1;34m(inp_struct)\u001b[0m\n\u001b[0;32m     73\u001b[0m     \u001b[0mFEL_params\u001b[0m\u001b[1;33m.\u001b[0m\u001b[0mupdate\u001b[0m\u001b[1;33m(\u001b[0m\u001b[0mparams\u001b[0m\u001b[1;33m)\u001b[0m\u001b[1;33m\u001b[0m\u001b[0m\n\u001b[0;32m     74\u001b[0m     \u001b[0mFEL_params\u001b[0m\u001b[1;33m.\u001b[0m\u001b[0mupdate\u001b[0m\u001b[1;33m(\u001b[0m\u001b[0mbucket_data\u001b[0m\u001b[1;33m)\u001b[0m\u001b[1;33m\u001b[0m\u001b[0m\n\u001b[1;32m---> 75\u001b[1;33m     \u001b[0mFEL_data\u001b[0m\u001b[1;33m=\u001b[0m\u001b[0mFEL_process\u001b[0m\u001b[1;33m(\u001b[0m\u001b[1;33m**\u001b[0m\u001b[0mFEL_params\u001b[0m\u001b[1;33m)\u001b[0m\u001b[1;33m\u001b[0m\u001b[0m\n\u001b[0m\u001b[0;32m     76\u001b[0m \u001b[1;33m\u001b[0m\u001b[0m\n\u001b[0;32m     77\u001b[0m     \u001b[1;31m#finalize calculation\u001b[0m\u001b[1;33m\u001b[0m\u001b[1;33m\u001b[0m\u001b[0m\n",
      "\u001b[1;32mC:\\Users\\Admin\\Documents\\some_work\\GP\\GP\\Undulator_Tapering-master\\machine_interfaces\\sase1d_input_part.pyc\u001b[0m in \u001b[0;36mFEL_process\u001b[1;34m(Nruns, npart, z_steps, energy, eSpread, emitN, currentMax, beta, unduPeriod, unduK, unduL, radWavelength, dEdz, iopt, P0, constseed, particle_position, hist_rule, unduJJ, gamma0, sigmaX2, kappa_1, density, Kai, ku, resWavelength, Pbeam, coopLength, z0, delt, dels, E02, gbar, delg, Ns, deta, thet_init, eta_init, N_real, s_steps, rho, gainLength)\u001b[0m\n\u001b[0;32m    200\u001b[0m                 \u001b[0mthethalf\u001b[0m\u001b[1;33m[\u001b[0m\u001b[1;33m:\u001b[0m\u001b[1;33m,\u001b[0m\u001b[0mj\u001b[0m\u001b[1;33m+\u001b[0m\u001b[1;36m1\u001b[0m\u001b[1;33m]\u001b[0m \u001b[1;33m=\u001b[0m \u001b[0mthethalf\u001b[0m\u001b[1;33m[\u001b[0m\u001b[1;33m:\u001b[0m\u001b[1;33m,\u001b[0m\u001b[0mj\u001b[0m\u001b[1;33m]\u001b[0m\u001b[1;33m+\u001b[0m\u001b[1;36m2\u001b[0m\u001b[1;33m*\u001b[0m\u001b[0mku\u001b[0m\u001b[1;33m*\u001b[0m\u001b[1;33m(\u001b[0m\u001b[0meta\u001b[0m\u001b[1;33m[\u001b[0m\u001b[1;33m:\u001b[0m\u001b[1;33m,\u001b[0m\u001b[0mj\u001b[0m\u001b[1;33m]\u001b[0m\u001b[1;33m+\u001b[0m\u001b[0mdeta\u001b[0m\u001b[1;33m[\u001b[0m\u001b[0mj\u001b[0m\u001b[1;33m]\u001b[0m\u001b[1;33m)\u001b[0m\u001b[1;33m*\u001b[0m\u001b[0mdelt\u001b[0m\u001b[1;33m\u001b[0m\u001b[0m\n\u001b[0;32m    201\u001b[0m                 \u001b[0meta\u001b[0m\u001b[1;33m[\u001b[0m\u001b[1;33m:\u001b[0m\u001b[1;33m,\u001b[0m\u001b[0mj\u001b[0m\u001b[1;33m+\u001b[0m\u001b[1;36m1\u001b[0m\u001b[1;33m]\u001b[0m \u001b[1;33m=\u001b[0m \u001b[0meta\u001b[0m\u001b[1;33m[\u001b[0m\u001b[1;33m:\u001b[0m\u001b[1;33m,\u001b[0m\u001b[0mj\u001b[0m\u001b[1;33m]\u001b[0m\u001b[1;33m-\u001b[0m\u001b[1;36m2\u001b[0m\u001b[1;33m*\u001b[0m\u001b[0mKai\u001b[0m\u001b[1;33m[\u001b[0m\u001b[0mj\u001b[0m\u001b[1;33m]\u001b[0m\u001b[1;33m*\u001b[0m\u001b[0mErhalf\u001b[0m\u001b[1;33m*\u001b[0m\u001b[0mnp\u001b[0m\u001b[1;33m.\u001b[0m\u001b[0mcos\u001b[0m\u001b[1;33m(\u001b[0m\u001b[0mthethalf\u001b[0m\u001b[1;33m[\u001b[0m\u001b[1;33m:\u001b[0m\u001b[1;33m,\u001b[0m\u001b[0mj\u001b[0m\u001b[1;33m+\u001b[0m\u001b[1;36m1\u001b[0m\u001b[1;33m]\u001b[0m\u001b[1;33m)\u001b[0m\u001b[1;33m*\u001b[0m\u001b[0mdelt\u001b[0m\u001b[0;31m\\\u001b[0m\u001b[1;33m\u001b[0m\u001b[0m\n\u001b[1;32m--> 202\u001b[1;33m                              \u001b[1;33m+\u001b[0m\u001b[1;36m2\u001b[0m\u001b[1;33m*\u001b[0m\u001b[0mKai\u001b[0m\u001b[1;33m[\u001b[0m\u001b[0mj\u001b[0m\u001b[1;33m]\u001b[0m\u001b[1;33m*\u001b[0m\u001b[0mEihalf\u001b[0m\u001b[1;33m*\u001b[0m\u001b[0mnp\u001b[0m\u001b[1;33m.\u001b[0m\u001b[0msin\u001b[0m\u001b[1;33m(\u001b[0m\u001b[0mthethalf\u001b[0m\u001b[1;33m[\u001b[0m\u001b[1;33m:\u001b[0m\u001b[1;33m,\u001b[0m\u001b[0mj\u001b[0m\u001b[1;33m+\u001b[0m\u001b[1;36m1\u001b[0m\u001b[1;33m]\u001b[0m\u001b[1;33m)\u001b[0m\u001b[1;33m*\u001b[0m\u001b[0mdelt\u001b[0m\u001b[1;31m#-Eloss*delt  #Eloss*delt to simulate the taper\u001b[0m\u001b[1;33m\u001b[0m\u001b[0m\n\u001b[0m\u001b[0;32m    203\u001b[0m                 \u001b[0mthet_output\u001b[0m\u001b[1;33m[\u001b[0m\u001b[1;33m:\u001b[0m\u001b[1;33m,\u001b[0m\u001b[0mj\u001b[0m\u001b[1;33m+\u001b[0m\u001b[1;36m1\u001b[0m\u001b[1;33m]\u001b[0m\u001b[1;33m=\u001b[0m\u001b[0mthet\u001b[0m\u001b[1;33m\u001b[0m\u001b[0m\n\u001b[0;32m    204\u001b[0m                 \u001b[0msumsin\u001b[0m \u001b[1;33m=\u001b[0m \u001b[0mnp\u001b[0m\u001b[1;33m.\u001b[0m\u001b[0msum\u001b[0m\u001b[1;33m(\u001b[0m\u001b[0mnp\u001b[0m\u001b[1;33m.\u001b[0m\u001b[0msin\u001b[0m\u001b[1;33m(\u001b[0m\u001b[0mthethalf\u001b[0m\u001b[1;33m[\u001b[0m\u001b[1;33m:\u001b[0m\u001b[1;33m,\u001b[0m\u001b[0mj\u001b[0m\u001b[1;33m+\u001b[0m\u001b[1;36m1\u001b[0m\u001b[1;33m]\u001b[0m\u001b[1;33m)\u001b[0m\u001b[1;33m)\u001b[0m\u001b[1;33m\u001b[0m\u001b[0m\n",
      "\u001b[1;31mKeyboardInterrupt\u001b[0m: "
     ]
    }
   ],
   "source": [
    "import time\n",
    "end = time.time()\n",
    "Niter = 10\n",
    "for i in range(Niter):\n",
    "#    clear_output(wait=True) \n",
    "    print ('iteration =', i)\n",
    "    print ('current position:', mi.x, 'current objective value:', mi.getState()[1])\n",
    "    \n",
    "    x_best, y_best = opt.best_seen()\n",
    "    print('best position:', x_best, 'best objective value:', y_best)\n",
    "    Obj_state_s.append(mi.getState()[1][0])\n",
    "    print('time=', time.time()-end)\n",
    "    end = time.time()\n",
    "\n",
    "    #plotting\n",
    "#    f = plt.figure(figsize=(20,3))\n",
    "#    ax = f.add_subplot(121)\n",
    "#    ax2 = f.add_subplot(122)\n",
    "#    ax.set_ylabel('K',fontsize=12)\n",
    "#    ax.plot(opt.X_obs,'.-')\n",
    "#    ax2.set_ylabel('Obj_state_s',fontsize=12)\n",
    "#    ax2.plot(Obj_state_s,'.-')\n",
    "#    plt.show(); \n",
    "    \n",
    "    #optimization\n",
    "    opt.OptIter()"
   ]
  },
  {
   "cell_type": "code",
   "execution_count": 101,
   "metadata": {},
   "outputs": [
    {
     "data": {
      "text/plain": [
       "array([  1.00000000e-05])"
      ]
     },
     "execution_count": 101,
     "metadata": {},
     "output_type": "execute_result"
    }
   ],
   "source": [
    "opt.lengthscales"
   ]
  },
  {
   "cell_type": "code",
   "execution_count": 12,
   "metadata": {},
   "outputs": [
    {
     "data": {
      "text/plain": [
       "<matplotlib.text.Text at 0xaaf3eb8>"
      ]
     },
     "execution_count": 12,
     "metadata": {},
     "output_type": "execute_result"
    },
    {
     "data": {
      "image/png": "[encoded data removed]",
      "text/plain": [
       "<matplotlib.figure.Figure at 0x9acfa20>"
      ]
     },
     "metadata": {},
     "output_type": "display_data"
    }
   ],
   "source": [
    "def convert_long(l,N=200):\n",
    "    #result=[3.5]*66\n",
    "    result=[]\n",
    "    step = N//len(l)\n",
    "    for i in range(len(l)-1):\n",
    "        result = result + [l[i]]*step\n",
    "    result = result + [l[-1]]*(N-step*(len(l)-1))\n",
    "    return result\n",
    "\n",
    "def taper_get(param_K):\n",
    "    '''\n",
    "    Input:\n",
    "    unduK is an array to represent taper profile (recommend to be a shape of (200,)\n",
    "    \n",
    "    Output:\n",
    "    z is the position array along the undulator\n",
    "    power_z is the output power along undulator\n",
    "    '''\n",
    "    \n",
    "    starting_step_short = 11\n",
    "    z_steps_short = 32\n",
    "    const_K = 3.5\n",
    "    n_z = 2\n",
    "    unduK_1=const_K*np.ones(int(starting_step_short))\n",
    "    \n",
    "    '''modified by huang'''\n",
    "    unduK_2=const_K+param_K*np.arange(1,1+z_steps_short-starting_step_short)**n_z\n",
    "    \n",
    "    #unduK_2=const_K+param_K*np.arange(z_steps_short-starting_step_short)**n_z\n",
    "    undu_K=np.concatenate((unduK_1,unduK_2))\n",
    "    unduK = np.array(convert_long(undu_K))\n",
    "    return unduK\n",
    "plt.plot(taper_get(opt.best_seen()[0]))\n",
    "plt.title('taper')"
   ]
  },
  {
   "cell_type": "code",
   "execution_count": 14,
   "metadata": {},
   "outputs": [],
   "source": [
    "a=taper_get(opt.best_seen()[0])"
   ]
  },
  {
   "cell_type": "code",
   "execution_count": 18,
   "metadata": {},
   "outputs": [
    {
     "ename": "IndexError",
     "evalue": "boolean index did not match indexed array along dimension 0; dimension is 65 but corresponding boolean dimension is 200",
     "output_type": "error",
     "traceback": [
      "\u001b[1;31m\u001b[0m",
      "\u001b[1;31mIndexError\u001b[0mTraceback (most recent call last)",
      "\u001b[1;32m<ipython-input-18-755bf3030d79>\u001b[0m in \u001b[0;36m<module>\u001b[1;34m()\u001b[0m\n\u001b[1;32m----> 1\u001b[1;33m \u001b[0ma\u001b[0m\u001b[1;33m[\u001b[0m\u001b[1;33m:\u001b[0m\u001b[1;36m65\u001b[0m\u001b[1;33m]\u001b[0m\u001b[1;33m[\u001b[0m\u001b[0ma\u001b[0m\u001b[1;33m==\u001b[0m\u001b[1;36m3.5\u001b[0m\u001b[1;33m]\u001b[0m\u001b[1;33m\u001b[0m\u001b[0m\n\u001b[0m",
      "\u001b[1;31mIndexError\u001b[0m: boolean index did not match indexed array along dimension 0; dimension is 65 but corresponding boolean dimension is 200"
     ]
    }
   ],
   "source": [
    "a[:65][a==3.5]"
   ]
  },
  {
   "cell_type": "code",
   "execution_count": null,
   "metadata": {},
   "outputs": [],
   "source": [
    "# self=opt\n",
    "# from modules.parallelstuff import *\n",
    "# from modules.bayes_optimization import negUCB\n",
    "# #acq_func = opt.aqfcn\n",
    "# xi=0.0\n",
    "# alt_param=-1\n",
    "# aqfcn = negUCB\n",
    "# nsteps = 1 + self.X_obs.shape[0] \n",
    "# fargs = (opt.model, ndim, nsteps, opt.ucb_params[0], opt.ucb_params[1])\n",
    "# neval = 2*int(10.*2.**(ndim/12.))\n",
    "# nkeep = 2*min(8,neval)\n",
    "# nbest = 3 # add the best points seen so far (largest Y_obs)\n",
    "# nstart = 2\n",
    "# aqfcn(np.array(-0.00053092,ndmin=2), opt.model, ndim, nsteps, )\n",
    "\n",
    "\n",
    "#yobs = np.array([y[0][0] for y in opt.Y_obs])\n",
    "#isearch = yobs.argsort()[-nbest:]\n",
    "#for i in range(min(nstart,len(opt.Y_obs))): #\n",
    "#                    if np.sum(isearch == i) == 0: # not found in list\n",
    "#                        isearch = np.append(isearch, i)\n",
    "#                        isearch.sort()\n",
    "#v0s = None\n",
    "#\n",
    "#for i in isearch:\n",
    "#                    \n",
    "#                    vs = parallelgridsearch(aqfcn,opt.X_obs[i],opt.searchBoundScaleFactor * 0.6*opt.lengthscales,fargs,neval,nkeep)\n",
    "#                   \n",
    "#                    if type(v0s) == type(None):\n",
    "#                        v0s = copy.copy(vs)\n",
    "#                    else:\n",
    "#                        v0s = np.vstack((v0s,vs))\n",
    "#"
   ]
  },
  {
   "cell_type": "code",
   "execution_count": null,
   "metadata": {
    "collapsed": true
   },
   "outputs": [],
   "source": [
    "v0sort = v0s[:,-1].argsort()[:nkeep] # keep the nlargest\n",
    "v0s = v0s[v0sort]\n",
    "\n",
    "x0s = v0s[:,:-1] # for later testing if the minimize results are better than the best starting point\n",
    "v0best = v0s[0]"
   ]
  },
  {
   "cell_type": "code",
   "execution_count": null,
   "metadata": {},
   "outputs": [],
   "source": [
    "v0s"
   ]
  },
  {
   "cell_type": "code",
   "execution_count": null,
   "metadata": {
    "collapsed": true
   },
   "outputs": [],
   "source": [
    "x_in = np.array(x_new,ndmin=2)\n",
    "model.predict(np.array(x_new,ndmin=2))\n",
    "self=model\n",
    "k_x = self.computeCov(x_in, self.BV)"
   ]
  },
  {
   "cell_type": "code",
   "execution_count": null,
   "metadata": {},
   "outputs": [],
   "source": [
    "np.dot(k_x, self.alpha)\n",
    "self.alpha"
   ]
  },
  {
   "cell_type": "code",
   "execution_count": null,
   "metadata": {},
   "outputs": [],
   "source": [
    "opt.X_obs"
   ]
  },
  {
   "cell_type": "code",
   "execution_count": null,
   "metadata": {},
   "outputs": [],
   "source": [
    "model=opt.model\n",
    "x_new=-0.00059531\n",
    "delta = 1.\n",
    "nu = 1\n",
    "(y_mean, y_var) = model.predict(np.array(x_new,ndmin=2))\n",
    "y_mean, y_var\n",
    "tau = 2.*np.log(nsteps**(0.5*ndim+2.)*(np.pi**2.)/3./delta)\n",
    "GPUCB = y_mean + np.sqrt(nu * tau * y_var)\n",
    "print(y_mean, y_var, GPUCB)"
   ]
  },
  {
   "cell_type": "code",
   "execution_count": null,
   "metadata": {},
   "outputs": [],
   "source": [
    "a=((-np.inf,0),)\n",
    "x = np.array([-0.004,1])\n",
    "max(x)"
   ]
  },
  {
   "cell_type": "code",
   "execution_count": null,
   "metadata": {},
   "outputs": [],
   "source": [
    "x = np.array([2,1])\n",
    "x0s=x\n",
    "bounds=((-np.inf,0),)\n",
    "np.random.uniform(max(x0s.min(), bounds[0][0]), min(x0s.max(), bounds[0][1]))"
   ]
  },
  {
   "cell_type": "code",
   "execution_count": null,
   "metadata": {},
   "outputs": [],
   "source": [
    "opt.X_obs"
   ]
  },
  {
   "cell_type": "markdown",
   "metadata": {},
   "source": [
    "# BO with likelihood optimiztion on the fly"
   ]
  },
  {
   "cell_type": "code",
   "execution_count": null,
   "metadata": {},
   "outputs": [],
   "source": [
    "#create the machine interface\n",
    "dev_ids = scan_params['dev_ids']\n",
    "start_point =  start_point\n",
    "mi0 = mi_module.machine_interface(dev_ids = dev_ids, start_point = start_point)\n",
    "\n",
    "\n",
    "ndim = len(dev_ids)\n",
    "\n",
    "gp_precisionmat = scan_params['gp_precisionmat']\n",
    "gp_amp = scan_params['gp_amp'] \n",
    "gp_noise = scan_params['gp_noise'] #std\n",
    "\n",
    "hyps = [gp_precisionmat, np.log(gp_amp), np.log(gp_noise**2)] #format the hyperparams for the OGP\n",
    "gp0 = OGP(ndim, hyps)"
   ]
  },
  {
   "cell_type": "code",
   "execution_count": null,
   "metadata": {
    "collapsed": true
   },
   "outputs": [],
   "source": [
    "#create the bayesian optimizer that will use the gp as the model to optimize the machine \n",
    "opt0 = BayesOpt(gp0, mi0, acq_func=\"UCB\", start_dev_vals = mi0.x, dev_ids = dev_ids)\n",
    "opt0.ucb_params = opt.ucb_params\n",
    "print('ucb_params',opt0.ucb_params)\n",
    "Obj_state_s0=[]"
   ]
  },
  {
   "cell_type": "code",
   "execution_count": null,
   "metadata": {
    "collapsed": true
   },
   "outputs": [],
   "source": [
    "for i in range(Niter):\n",
    "    clear_output(wait=True) \n",
    "    print ('iteration =', i)\n",
    "    print ('current position:', mi0.x, 'current objective value:', mi0.getState()[1])\n",
    "   \n",
    "    Obj_state_s0.append(mi0.getState()[1][0])\n",
    "    \n",
    "    f = plt.figure(figsize=(20,3))\n",
    "    ax = f.add_subplot(121)\n",
    "    ax2 = f.add_subplot(122)\n",
    "    ax.set_ylabel('Quads',fontsize=12)\n",
    "    ax.plot(opt0.X_obs)\n",
    "    ax2.set_ylabel('Obj_state_s',fontsize=12)\n",
    "    ax2.plot(Obj_state_s0)\n",
    "    plt.show(); \n",
    "    \n",
    "    if (i>1) and (i<10):\n",
    "        opt0.optimize_log_lik()    \n",
    "        \n",
    "    opt0.OptIter()\n"
   ]
  },
  {
   "cell_type": "code",
   "execution_count": null,
   "metadata": {
    "collapsed": true
   },
   "outputs": [],
   "source": [
    "#save results if desired\n",
    "if saveResultsQ == True:\n",
    "    timestr = datetime.now().strftime('%Y-%m-%d-%H%M%S')\n",
    "    try: os.mkdir('saved_results')\n",
    "    except: pass\n",
    "    results = {}\n",
    "    results['scan_params'] = scan_params\n",
    "    results['xs'] = opt.X_obs\n",
    "    results['ys'] = np.array([y[0][0] for y in opt.Y_obs])\n",
    "    results['time'] = timestr\n",
    "    np.save('saved_results/scan_'+timestr, results)"
   ]
  },
  {
   "cell_type": "markdown",
   "metadata": {},
   "source": [
    "# UCB function "
   ]
  },
  {
   "cell_type": "code",
   "execution_count": null,
   "metadata": {
    "collapsed": true
   },
   "outputs": [],
   "source": [
    "import numpy as np\n",
    "import matplotlib.pyplot as plt\n",
    "\n",
    "nsteps=np.linspace(1,20,100)\n",
    "ndim=4\n",
    "nu=0.002*120\n",
    "delta=0.4\n",
    "tau = 2.*np.log(nsteps**(0.5*ndim+2.)*(np.pi**2.)/3./delta)\n",
    "\n",
    "plt.plot(nsteps,np.sqrt(nu * tau)); plt.xlabel('nsteps');\n",
    "plt.ylabel('np.sqrt(nu * tau)'); plt.title('ndim'+ str(ndim)+'UCB: [nu,delta]=['+ str(nu) + str(delta)+']'); plt.show()\n",
    "\n",
    "ybest = 0.1\n",
    "sigma_y = 0.01\n",
    "plt.plot(nsteps, np.sqrt(nu * tau* sigma_y**2)); plt.xlabel('nsteps');plt.show()"
   ]
  },
  {
   "cell_type": "code",
   "execution_count": null,
   "metadata": {
    "collapsed": true
   },
   "outputs": [],
   "source": [
    "xs = [m*mi.x for m in np.linspace(-3, 3, 100)]\n",
    "ys = [gp.predict(x)[0] for x in xs]\n",
    "ys_std = [gp.predict(x)[1] for x in xs]\n",
    "negEIs = [negExpImprove(x, gp, opt.best_seen()[1], 0, 1) for x in xs]\n",
    "negUCBs = [negUCB(x, gp, ndim, nsteps, nu = 1., delta = 1.) for x in xs]\n",
    "xs = np.array([x[0][0] for x in xs])\n",
    "ys = np.array([y[0][0] for y in ys])\n",
    "ys_std = np.array([y_std[0][0] for y_std in ys_std])\n",
    "EIs = -1.*np.array([negEI[0][0] for negEI in negEIs])\n",
    "UCBs = -1.*np.array([negUCB[0][0] for negUCB in negUCBs])"
   ]
  },
  {
   "cell_type": "code",
   "execution_count": null,
   "metadata": {
    "collapsed": true
   },
   "outputs": [],
   "source": [
    "import matplotlib.pyplot as plt\n",
    "plt.plot(xs, ys, label='GP prediction')\n",
    "plt.fill_between(xs, ys-ys_std, ys+ys_std, alpha=0.4)\n",
    "plt.plot(xs, UCBs, c='g', label='UCB acq func')\n",
    "plt.legend(loc=1)\n",
    "plt.show()\n"
   ]
  },
  {
   "cell_type": "code",
   "execution_count": null,
   "metadata": {
    "collapsed": true
   },
   "outputs": [],
   "source": [
    "a = ((1,2),)"
   ]
  },
  {
   "cell_type": "code",
   "execution_count": null,
   "metadata": {},
   "outputs": [],
   "source": [
    "a[0][1]"
   ]
  },
  {
   "cell_type": "code",
   "execution_count": null,
   "metadata": {
    "collapsed": true
   },
   "outputs": [],
   "source": []
  },
  {
   "cell_type": "code",
   "execution_count": null,
   "metadata": {
    "collapsed": true
   },
   "outputs": [],
   "source": []
  }
 ],
 "metadata": {
  "kernelspec": {
   "display_name": "Python 2",
   "language": "python",
   "name": "python2"
  },
  "language_info": {
   "codemirror_mode": {
    "name": "ipython",
    "version": 2
   },
   "file_extension": ".py",
   "mimetype": "text/x-python",
   "name": "python",
   "nbconvert_exporter": "python",
   "pygments_lexer": "ipython2",
   "version": "2.7.13"
  }
 },
 "nbformat": 4,
 "nbformat_minor": 4
}
